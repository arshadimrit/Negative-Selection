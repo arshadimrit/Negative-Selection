{
 "cells": [
  {
   "cell_type": "code",
   "execution_count": 1,
   "metadata": {
    "scrolled": true
   },
   "outputs": [
    {
     "name": "stderr",
     "output_type": "stream",
     "text": [
      "/home/arshad/miniconda3/lib/python3.6/site-packages/statsmodels/tools/_testing.py:19: FutureWarning: pandas.util.testing is deprecated. Use the functions in the public API at pandas.testing instead.\n",
      "  import pandas.util.testing as tm\n",
      "/home/arshad/miniconda3/lib/python3.6/site-packages/sklearn/externals/joblib/__init__.py:15: FutureWarning: sklearn.externals.joblib is deprecated in 0.21 and will be removed in 0.23. Please import this functionality directly from joblib, which can be installed with: pip install joblib. If this warning is raised when loading pickled models, you may need to re-serialize those models with scikit-learn 0.21+.\n",
      "  warnings.warn(msg, category=FutureWarning)\n"
     ]
    }
   ],
   "source": [
    "import pandas as pd\n",
    "import numpy as np\n",
    "import matplotlib.pyplot as graph\n",
    "from IPython.display import display\n",
    "import seaborn as sns\n",
    "from tqdm import tqdm, trange\n",
    "from scipy import stats\n",
    "import datetime\n",
    "import shutil \n",
    "import os\n",
    "import multiprocessing\n",
    "\n",
    "from sklearn.externals.joblib import Parallel, delayed\n",
    "\n",
    "start_codon = 'ATG'\n",
    "\n",
    "lowercase_synonymous_list = ['ctT', 'ctC', 'ctA', 'ctG', \n",
    "                             'gtT', 'gtC', 'gtA', 'gtG', \n",
    "                             'gcT', 'gcC', 'gcA', 'gcG', \n",
    "                             'ggT', 'ggC', 'ggA', 'ggG', \n",
    "                             'ccT', 'ccC', 'ccA', 'ccG', \n",
    "                             'acT', 'acC', 'acA', 'acG', \n",
    "                             'tcT', 'tcC', 'tcA', 'tcG', \n",
    "                             'cgT', 'cgC', 'cgA', 'cgG']\n",
    "\n",
    "genome_file = '/data3/species-caste-vcfs/DFE-bootstraps-input/polistes-afs-simple.table'\n",
    "genome_syn_file = '/data3/species-caste-vcfs/DFE-bootstraps-input/polistes-synonymous-afs-simple.table'\n",
    "\n",
    "pd.set_option('max_colwidth', 125)"
   ]
  },
  {
   "cell_type": "code",
   "execution_count": 2,
   "metadata": {
    "scrolled": true
   },
   "outputs": [
    {
     "name": "stdout",
     "output_type": "stream",
     "text": [
      "Number of Queen genes = 140\n",
      "Number of Worker genes = 333\n"
     ]
    }
   ],
   "source": [
    "# List of queen and worker genes\n",
    "genes_df = pd.read_csv('/home/arshad/Gene_expression/PolistesExpression.csv')\n",
    "queen_genes = genes_df[genes_df['expression'] == 'Queen']['gene'].tolist()\n",
    "worker_genes = genes_df[genes_df['expression'] == 'Worker']['gene'].tolist()\n",
    "non_deg_genes = genes_df[genes_df['expression'] == 'NONDEG']['gene'].tolist()\n",
    "\n",
    "print(f'Number of Queen genes = {len(queen_genes)}')\n",
    "print(f'Number of Worker genes = {len(worker_genes)}')"
   ]
  },
  {
   "cell_type": "code",
   "execution_count": 3,
   "metadata": {},
   "outputs": [
    {
     "name": "stderr",
     "output_type": "stream",
     "text": [
      "<string>:2: DtypeWarning: Columns (0) have mixed types.Specify dtype option on import or set low_memory=False.\n"
     ]
    },
    {
     "name": "stdout",
     "output_type": "stream",
     "text": [
      "CPU times: user 1min 9s, sys: 9.92 s, total: 1min 19s\n",
      "Wall time: 1min 55s\n"
     ]
    }
   ],
   "source": [
    "%%time\n",
    "variants = pd.read_csv('/data3/Arshad_files/species-caste-vcfs/DFE-bootstraps-input/polistes-afs-bootstrap-input.table')\n",
    "four_fold = pd.read_csv('/data3/Arshad_files/species-caste-vcfs/DFE-bootstraps-input/polistes-synonymous-afs-bootstrap-input.table')"
   ]
  },
  {
   "cell_type": "code",
   "execution_count": 32,
   "metadata": {},
   "outputs": [
    {
     "name": "stderr",
     "output_type": "stream",
     "text": [
      "/home/arshad/miniconda3/lib/python3.6/site-packages/IPython/core/interactiveshell.py:2785: DtypeWarning: Columns (6) have mixed types.Specify dtype option on import or set low_memory=False.\n",
      "  interactivity=interactivity, compiler=compiler, result=result)\n"
     ]
    }
   ],
   "source": [
    "variants = pd.read_csv('/data4/Ant_genomes/all_ant_invictus_simple.csv')\n",
    "four_fold = pd.read_csv('/data4/Ant_genomes/synonymous_ant_invictus_simple.csv')\n",
    "\n",
    "# four_fold = synonymous[synonymous['OG-codon'].isin(lowercase_synonymous_list)]"
   ]
  },
  {
   "cell_type": "code",
   "execution_count": 4,
   "metadata": {
    "scrolled": false
   },
   "outputs": [
    {
     "data": {
      "text/html": [
       "<div>\n",
       "<style scoped>\n",
       "    .dataframe tbody tr th:only-of-type {\n",
       "        vertical-align: middle;\n",
       "    }\n",
       "\n",
       "    .dataframe tbody tr th {\n",
       "        vertical-align: top;\n",
       "    }\n",
       "\n",
       "    .dataframe thead th {\n",
       "        text-align: right;\n",
       "    }\n",
       "</style>\n",
       "<table border=\"1\" class=\"dataframe\">\n",
       "  <thead>\n",
       "    <tr style=\"text-align: right;\">\n",
       "      <th></th>\n",
       "      <th>genes</th>\n",
       "      <th>AN</th>\n",
       "      <th>cal_af</th>\n",
       "      <th>effect</th>\n",
       "      <th>AC</th>\n",
       "      <th>AF</th>\n",
       "    </tr>\n",
       "  </thead>\n",
       "  <tbody>\n",
       "    <tr>\n",
       "      <th>141631251</th>\n",
       "      <td>NaN</td>\n",
       "      <td>20.0</td>\n",
       "      <td>0.0</td>\n",
       "      <td>intergenic_region</td>\n",
       "      <td>0.0</td>\n",
       "      <td>0.0</td>\n",
       "    </tr>\n",
       "    <tr>\n",
       "      <th>141631252</th>\n",
       "      <td>NaN</td>\n",
       "      <td>20.0</td>\n",
       "      <td>0.0</td>\n",
       "      <td>intergenic_region</td>\n",
       "      <td>0.0</td>\n",
       "      <td>0.0</td>\n",
       "    </tr>\n",
       "    <tr>\n",
       "      <th>141631253</th>\n",
       "      <td>NaN</td>\n",
       "      <td>20.0</td>\n",
       "      <td>0.0</td>\n",
       "      <td>intergenic_region</td>\n",
       "      <td>0.0</td>\n",
       "      <td>0.0</td>\n",
       "    </tr>\n",
       "    <tr>\n",
       "      <th>141631254</th>\n",
       "      <td>NaN</td>\n",
       "      <td>20.0</td>\n",
       "      <td>0.0</td>\n",
       "      <td>intergenic_region</td>\n",
       "      <td>0.0</td>\n",
       "      <td>0.0</td>\n",
       "    </tr>\n",
       "    <tr>\n",
       "      <th>141631255</th>\n",
       "      <td>NaN</td>\n",
       "      <td>20.0</td>\n",
       "      <td>0.0</td>\n",
       "      <td>intergenic_region</td>\n",
       "      <td>0.0</td>\n",
       "      <td>0.0</td>\n",
       "    </tr>\n",
       "    <tr>\n",
       "      <th>141631256</th>\n",
       "      <td>NaN</td>\n",
       "      <td>20.0</td>\n",
       "      <td>0.0</td>\n",
       "      <td>intergenic_region</td>\n",
       "      <td>0.0</td>\n",
       "      <td>0.0</td>\n",
       "    </tr>\n",
       "    <tr>\n",
       "      <th>141631257</th>\n",
       "      <td>NaN</td>\n",
       "      <td>20.0</td>\n",
       "      <td>0.0</td>\n",
       "      <td>intergenic_region</td>\n",
       "      <td>0.0</td>\n",
       "      <td>0.0</td>\n",
       "    </tr>\n",
       "  </tbody>\n",
       "</table>\n",
       "</div>"
      ],
      "text/plain": [
       "          genes    AN  cal_af             effect   AC   AF\n",
       "141631251   NaN  20.0     0.0  intergenic_region  0.0  0.0\n",
       "141631252   NaN  20.0     0.0  intergenic_region  0.0  0.0\n",
       "141631253   NaN  20.0     0.0  intergenic_region  0.0  0.0\n",
       "141631254   NaN  20.0     0.0  intergenic_region  0.0  0.0\n",
       "141631255   NaN  20.0     0.0  intergenic_region  0.0  0.0\n",
       "141631256   NaN  20.0     0.0  intergenic_region  0.0  0.0\n",
       "141631257   NaN  20.0     0.0  intergenic_region  0.0  0.0"
      ]
     },
     "metadata": {},
     "output_type": "display_data"
    },
    {
     "data": {
      "text/html": [
       "<div>\n",
       "<style scoped>\n",
       "    .dataframe tbody tr th:only-of-type {\n",
       "        vertical-align: middle;\n",
       "    }\n",
       "\n",
       "    .dataframe tbody tr th {\n",
       "        vertical-align: top;\n",
       "    }\n",
       "\n",
       "    .dataframe thead th {\n",
       "        text-align: right;\n",
       "    }\n",
       "</style>\n",
       "<table border=\"1\" class=\"dataframe\">\n",
       "  <thead>\n",
       "    <tr style=\"text-align: right;\">\n",
       "      <th></th>\n",
       "      <th>genes</th>\n",
       "      <th>AN</th>\n",
       "      <th>cal_af</th>\n",
       "      <th>effect</th>\n",
       "      <th>AC</th>\n",
       "      <th>AF</th>\n",
       "    </tr>\n",
       "  </thead>\n",
       "  <tbody>\n",
       "    <tr>\n",
       "      <th>2016263</th>\n",
       "      <td>PdomGENEr1.2-10076</td>\n",
       "      <td>20</td>\n",
       "      <td>0.0</td>\n",
       "      <td>synonymous_variant</td>\n",
       "      <td>0.0</td>\n",
       "      <td>0.0</td>\n",
       "    </tr>\n",
       "    <tr>\n",
       "      <th>2016264</th>\n",
       "      <td>PdomGENEr1.2-10076</td>\n",
       "      <td>20</td>\n",
       "      <td>0.0</td>\n",
       "      <td>synonymous_variant</td>\n",
       "      <td>0.0</td>\n",
       "      <td>0.0</td>\n",
       "    </tr>\n",
       "    <tr>\n",
       "      <th>2016265</th>\n",
       "      <td>PdomGENEr1.2-10076</td>\n",
       "      <td>20</td>\n",
       "      <td>0.0</td>\n",
       "      <td>synonymous_variant</td>\n",
       "      <td>0.0</td>\n",
       "      <td>0.0</td>\n",
       "    </tr>\n",
       "    <tr>\n",
       "      <th>2016266</th>\n",
       "      <td>PdomGENEr1.2-10076</td>\n",
       "      <td>20</td>\n",
       "      <td>0.0</td>\n",
       "      <td>synonymous_variant</td>\n",
       "      <td>0.0</td>\n",
       "      <td>0.0</td>\n",
       "    </tr>\n",
       "    <tr>\n",
       "      <th>2016267</th>\n",
       "      <td>PdomGENEr1.2-10076</td>\n",
       "      <td>20</td>\n",
       "      <td>0.0</td>\n",
       "      <td>synonymous_variant</td>\n",
       "      <td>0.0</td>\n",
       "      <td>0.0</td>\n",
       "    </tr>\n",
       "  </tbody>\n",
       "</table>\n",
       "</div>"
      ],
      "text/plain": [
       "                      genes  AN  cal_af              effect   AC   AF\n",
       "2016263  PdomGENEr1.2-10076  20     0.0  synonymous_variant  0.0  0.0\n",
       "2016264  PdomGENEr1.2-10076  20     0.0  synonymous_variant  0.0  0.0\n",
       "2016265  PdomGENEr1.2-10076  20     0.0  synonymous_variant  0.0  0.0\n",
       "2016266  PdomGENEr1.2-10076  20     0.0  synonymous_variant  0.0  0.0\n",
       "2016267  PdomGENEr1.2-10076  20     0.0  synonymous_variant  0.0  0.0"
      ]
     },
     "metadata": {},
     "output_type": "display_data"
    }
   ],
   "source": [
    "display(variants.tail(7))\n",
    "display(four_fold.tail())"
   ]
  },
  {
   "cell_type": "code",
   "execution_count": 5,
   "metadata": {},
   "outputs": [
    {
     "data": {
      "text/plain": [
       "array(['intergenic_region', 'initiator_codon_variant', 'start_lost',\n",
       "       'stop_gained', 'missense_variant', 'synonymous_variant',\n",
       "       'splice_region_variant+synonymous_variant',\n",
       "       'missense_variant+splice_region_variant',\n",
       "       'splice_donor_variant+intron_variant',\n",
       "       'splice_region_variant+intron_variant', 'intron_variant',\n",
       "       'splice_acceptor_variant+intron_variant',\n",
       "       'stop_lost+splice_region_variant',\n",
       "       'splice_region_variant+stop_retained_variant',\n",
       "       '3_prime_UTR_variant', 'stop_lost', 'splice_region_variant',\n",
       "       '5_prime_UTR_variant',\n",
       "       '5_prime_UTR_premature_start_codon_gain_variant',\n",
       "       'stop_gained+splice_region_variant',\n",
       "       'start_lost+splice_region_variant',\n",
       "       'initiator_codon_variant+splice_region_variant',\n",
       "       'stop_retained_variant', 'non_coding_transcript_exon_variant',\n",
       "       'splice_region_variant+non_coding_transcript_exon_variant',\n",
       "       'splice_donor_variant+splice_region_variant+intron_variant',\n",
       "       'splice_acceptor_variant+splice_region_variant+intron_variant',\n",
       "       'initiator_codon_variant+non_canonical_start_codon'], dtype=object)"
      ]
     },
     "execution_count": 5,
     "metadata": {},
     "output_type": "execute_result"
    }
   ],
   "source": [
    "variants['effect'].unique()"
   ]
  },
  {
   "cell_type": "code",
   "execution_count": 6,
   "metadata": {},
   "outputs": [
    {
     "data": {
      "text/plain": [
       "array([ 0.,  9.,  1.,  4.,  3.,  2.,  5.,  7.,  6., 10.,  8.])"
      ]
     },
     "execution_count": 6,
     "metadata": {},
     "output_type": "execute_result"
    }
   ],
   "source": [
    "variants['cal_af'].unique()"
   ]
  },
  {
   "cell_type": "code",
   "execution_count": 7,
   "metadata": {},
   "outputs": [
    {
     "data": {
      "text/plain": [
       "array([ 0.,  1.,  2.,  4., 10.,  9.,  6.,  3.,  8.,  5.,  7.])"
      ]
     },
     "execution_count": 7,
     "metadata": {},
     "output_type": "execute_result"
    }
   ],
   "source": [
    "four_fold['cal_af'].unique()"
   ]
  },
  {
   "cell_type": "code",
   "execution_count": 8,
   "metadata": {
    "scrolled": false
   },
   "outputs": [],
   "source": [
    "# Caste dfs\n",
    "\n",
    "queen_df = variants.loc[variants['genes'].isin(queen_genes)]\n",
    "worker_df = variants.loc[variants['genes'].isin(worker_genes)]\n",
    "non_deg_df = variants.loc[variants['genes'].isin(non_deg_genes)]"
   ]
  },
  {
   "cell_type": "code",
   "execution_count": 9,
   "metadata": {},
   "outputs": [],
   "source": [
    "# Four-fold for queen and worker (and non-deg)\n",
    "\n",
    "queen_four_fold = four_fold.loc[four_fold['genes'].isin(queen_genes)]\n",
    "worker_four_fold = four_fold.loc[four_fold['genes'].isin(worker_genes)]\n",
    "non_deg_four_fold = four_fold.loc[four_fold['genes'].isin(non_deg_genes)]"
   ]
  },
  {
   "cell_type": "code",
   "execution_count": 10,
   "metadata": {},
   "outputs": [],
   "source": [
    "# All\n",
    "\n",
    "synonymous = variants[variants['effect'].str.contains('synonymous_variant')]\n",
    "intron = variants[variants['effect'].str.contains('intron_variant')]\n",
    "intergenic = variants[variants['effect'] == 'intergenic_region']\n",
    "intragenic = variants[variants['effect'] == 'intragenic_variant']\n",
    "missense = variants[variants['effect'].str.contains('missense_variant')]\n",
    "five_prime_UTR = variants[variants['effect'].str.contains('5_prime_UTR')]"
   ]
  },
  {
   "cell_type": "code",
   "execution_count": 11,
   "metadata": {},
   "outputs": [],
   "source": [
    "#Queen genes\n",
    "\n",
    "synonymous_queen = queen_df[queen_df['effect'].str.contains('synonymous_variant')]\n",
    "intron_queen = queen_df[queen_df['effect'].str.contains('synonymous_variant')]\n",
    "intergenic_queen = queen_df[queen_df['effect'] == 'intergenic_region']\n",
    "intragenic_queen = queen_df[queen_df['effect'] == 'intragenic_variant']\n",
    "missense_queen = queen_df[queen_df['effect'].str.contains('missense_variant')]\n",
    "five_prime_UTR_queen = queen_df[queen_df['effect'].str.contains('5_prime_UTR')]"
   ]
  },
  {
   "cell_type": "code",
   "execution_count": null,
   "metadata": {},
   "outputs": [],
   "source": [
    "#Worker genes\n",
    "\n",
    "synonymous_worker = worker_df[worker_df['effect'].str.contains('synonymous_variant')]\n",
    "intron_worker = worker_df[worker_df['effect'].str.contains('synonymous_variant')]\n",
    "intergenic_worker = worker_df[worker_df['effect'] == 'intergenic_region']\n",
    "intragenic_worker = worker_df[worker_df['effect'] == 'intragenic_variant']\n",
    "missense_worker = worker_df[worker_df['effect'].str.contains('missense_variant')]\n",
    "five_prime_UTR_worker = worker_df[worker_df['effect'].str.contains('5_prime_UTR')]"
   ]
  },
  {
   "cell_type": "code",
   "execution_count": null,
   "metadata": {},
   "outputs": [],
   "source": [
    "# Value counts and converting to sfs\n",
    "\n",
    "dataframes = [four_fold, intron, intergenic, intragenic, missense, synonymous, five_prime_UTR, queen_four_fold, \n",
    "              intron_queen, intergenic_queen, intragenic_queen, missense_queen, five_prime_UTR_queen, \n",
    "              worker_four_fold, intron_worker, intragenic_worker, intergenic_worker, missense_worker, \n",
    "              five_prime_UTR_worker]\n",
    "afs_names = ['afs_4_fold', 'afs_intron', 'afs_intergenic', 'afs_intragenic', 'afs_missense', 'afs_synonymous', \n",
    "             'afs_5_UTR', 'afs_queen_4_fold', 'afs_queen_intron', 'afs_queen_intergenic', 'afs_queen_intragenic', \n",
    "             'afs_queen_missense', 'afs_queen_5_UTR', 'afs_worker_4_fold', 'afs_worker_intron', 'afs_worker_intragenic', \n",
    "             'afs_worker_intergenic', 'afs_worker_missense', 'afs_worker_5_UTR']\n",
    "\n",
    "afs = []\n",
    "for data, name in zip(dataframes, afs_names):\n",
    "    df = pd.DataFrame(data['cal_af'].value_counts().sort_index())\n",
    "    df.columns = [name]\n",
    "    afs.append(df)\n",
    "    \n",
    "afs = pd.concat(afs, axis='columns')\n",
    "afs = afs.T.fillna(0)\n",
    "afs.to_csv('folded-bombus-allele-count-caste.csv')\n",
    "print(\"File saved and ready to use!!\")"
   ]
  },
  {
   "cell_type": "markdown",
   "metadata": {},
   "source": [
    "# Bootstrapping\n",
    "\n",
    "### Parallel"
   ]
  },
  {
   "cell_type": "code",
   "execution_count": null,
   "metadata": {},
   "outputs": [],
   "source": [
    "! rm -r /home/arshad/polistes-queen-gene-afs\n",
    "! rm -r /home/arshad/dfe-alpha-release-2.16/site-class-0-output/bootstrap/run*\n",
    "! rm -r /home/arshad/dfe-alpha-release-2.16/results_dir_sel/bootstrap/run*\n",
    "! rm /home/arshad/dfe-alpha-release-2.16/configs/config*\n",
    "\n",
    "! mkdir /home/arshad/polistes-queen-gene-afs\n",
    "! mkdir /home/arshad/polistes-queen-gene-afs/bootstrapping\n",
    "! mkdir /home/arshad/polistes-queen-gene-afs/bootstrapping/sfs\n",
    "! mkdir /home/arshad/polistes-queen-gene-afs/bootstrapping/dfe-estimates-queen\n",
    "\n",
    "def sfs_test(i, gene_list):\n",
    "    gene_queen = queen_df.loc[queen_df['genes'].isin(gene_list)]\n",
    "\n",
    "    syn_gene_queen = queen_four_fold.loc[queen_four_fold['genes'].isin(gene_list)]\n",
    "    gene_missense_queen = gene_queen[gene_queen['effect'].str.contains('missense_variant')]\n",
    "    \n",
    "    gene_dataframes = [gene_missense_queen, syn_gene_queen]\n",
    "    gene_afs_names = ['missense', 'four_fold']\n",
    "    \n",
    "    afs = []\n",
    "    for data, name in zip(gene_dataframes, gene_afs_names):\n",
    "        indices = np.arange(0, gene_queen['AN'].max() + 1, 1)\n",
    "        df = pd.DataFrame(data['cal_af'].value_counts().reindex(index=indices, fill_value='0').sort_index())\n",
    "        df.columns = [name]\n",
    "        afs.append(df)\n",
    "        \n",
    "    afs = pd.concat(afs, axis='columns')\n",
    "    afs = afs.T\n",
    "#     display(afs.head())\n",
    "    \n",
    "    afs.to_csv(f'/home/arshad/polistes-queen-gene-afs/bootstrapping/folded-polistes-queen-run-{i}.csv')\n",
    "    afs.to_csv(f'/home/arshad/polistes-queen-gene-afs/bootstrapping/sfs/sfs-run-{i}.txt', sep=' ', index=False, header=False)\n",
    "    \n",
    "    # Make sfs.txt file for dfe-alpha file\n",
    "    \n",
    "    with open(f'/home/arshad/polistes-queen-gene-afs/bootstrapping/sfs/sfs-run-{i}.txt', 'r+') as sfs_file:\n",
    "        file_data = sfs_file.read()\n",
    "        sfs_file.seek(0, 0)\n",
    "        sfs_file.write(\"1\\n\".rstrip('\\r\\n') + '\\n')\n",
    "        sfs_file.write(\"20\\n\".rstrip('\\r\\n') + '\\n')\n",
    "        sfs_file.write(file_data)\n",
    "        sfs_file.write(\"#polistes-queen\")\n",
    "        sfs_file.close()\n",
    "    \n",
    "#     Config 1 file\n",
    "\n",
    "    ! mkdir /home/arshad/dfe-alpha-release-2.16/site-class-0-output/bootstrap/run-{i}\n",
    "\n",
    "    with open(f'/home/arshad/dfe-alpha-release-2.16/configs/config-{i}-1.txt', 'a') as sfs_file:\n",
    "        sfs_file.write(\"data_path_1     /home/arshad/dfe-alpha-release-2.16/data/\\n\")\n",
    "        sfs_file.write(\"data_path_2     /home/arshad/dfe-alpha-release-2.16/data-epoch-3/\\n\")\n",
    "        sfs_file.write(f\"sfs_input_file  /home/arshad/polistes-queen-gene-afs/bootstrapping/sfs/sfs-run-{i}.txt\\n\")\n",
    "        sfs_file.write(f\"est_dfe_results_dir    /home/arshad/dfe-alpha-release-2.16/site-class-0-output/bootstrap/run-{i}\\n\") \n",
    "        sfs_file.write(\"site_class 0\\n\")\n",
    "        sfs_file.write(\"fold       1\\n\")\n",
    "        sfs_file.write(\"epochs  2\\n\")\n",
    "        sfs_file.write(\"search_n2       1\\n\")\n",
    "        sfs_file.write(\"#n2     1000\\n\")\n",
    "        sfs_file.write(\"t2_variable     1\\n\")\n",
    "        sfs_file.write(\"t2              1000\\n\")\n",
    "        sfs_file.close()\n",
    "\n",
    "  # Config 2 file\n",
    "    ! mkdir /home/arshad/dfe-alpha-release-2.16/results_dir_sel/bootstrap/run-{i}\n",
    "\n",
    "    with open(f'/home/arshad/dfe-alpha-release-2.16/configs/config-{i}-2.txt', 'a') as sfs_file:\n",
    "        sfs_file.write(\"data_path_1     /home/arshad/dfe-alpha-release-2.16/data/\\n\")\n",
    "        sfs_file.write(\"data_path_2     /home/arshad/dfe-alpha-release-2.16/data-epoch-3/\\n\")\n",
    "        sfs_file.write(f\"sfs_input_file  /home/arshad/polistes-queen-gene-afs/bootstrapping/sfs/sfs-run-{i}.txt\\n\")\n",
    "        sfs_file.write(f\"est_dfe_results_dir    /home/arshad/dfe-alpha-release-2.16/results_dir_sel/bootstrap/run-{i}\\n\") \n",
    "        sfs_file.write(f\"est_dfe_demography_results_file   /home/arshad/dfe-alpha-release-2.16/site-class-0-output/bootstrap/run-{i}/est_dfe.out\\n\") \n",
    "        sfs_file.write(\"site_class 1\\n\")\n",
    "        sfs_file.write(\"fold 1\\n\")\n",
    "        sfs_file.write(\"epochs  2\\n\")\n",
    "        sfs_file.write(\"mean_s_variable 1\\n\")\n",
    "        sfs_file.write(\"mean_s -0.001\\n\")\n",
    "        sfs_file.write(\"beta_variable 1\\n\")\n",
    "        sfs_file.write(\"beta 0.005\\n\")\n",
    "        sfs_file.close()\n",
    "\n",
    "    ! nohup /home/arshad/dfe-alpha-release-2.16/est_dfe -c /home/arshad/dfe-alpha-release-2.16/configs/config-{i}-1.txt\n",
    "    ! nohup /home/arshad/dfe-alpha-release-2.16/est_dfe -c /home/arshad/dfe-alpha-release-2.16/configs/config-{i}-2.txt\n",
    "    ! nohup /home/arshad/dfe-alpha-release-2.16/prop_muts_in_s_ranges -c /home/arshad/dfe-alpha-release-2.16/results_dir_sel/bootstrap/run-{i}/est_dfe.out -o /home/arshad/polistes-queen-gene-afs/bootstrapping/dfe-estimates-queen/run-{i}-estimates.txt"
   ]
  },
  {
   "cell_type": "code",
   "execution_count": null,
   "metadata": {
    "scrolled": true
   },
   "outputs": [],
   "source": [
    "%%time\n",
    "Parallel(n_jobs=45)(delayed(sfs_test)(i, np.random.choice(queen_genes, len(queen_genes))) for i in trange(5000))"
   ]
  },
  {
   "cell_type": "code",
   "execution_count": null,
   "metadata": {},
   "outputs": [],
   "source": [
    "negative_selection = [] # Will be at the complete top of the script\n",
    "\n",
    "path_folder = '/home/arshad/polistes-queen-gene-afs/bootstrapping/dfe-estimates-queen/'\n",
    "\n",
    "for file in tqdm(os.listdir(path_folder), total=len(path_folder)):\n",
    "#     print(file)\n",
    "    df = pd.read_csv(f'{path_folder}/{file}', sep=' ', header=None)\n",
    "    df.columns = ['rand1', 'rand2', 'one', 'rand3', 'rand4', 'ten', 'rand5', 'rand6', 'hundred', 'rand7', \n",
    "                  'rand8', 'infinity', 'check']\n",
    "    df.drop(columns =[column for column in df.columns if 'rand' in column], inplace=True)\n",
    "    \n",
    "    negative_selection.append(df)\n",
    "\n",
    "missense_estimates = pd.concat(negative_selection)\n",
    "missense_estimates\n",
    "missense_estimates.to_csv('/home/arshad/polistes-missense-queen-parallel-proper-5kiterations.csv', index=False)"
   ]
  },
  {
   "cell_type": "markdown",
   "metadata": {},
   "source": [
    "# Whole genome"
   ]
  },
  {
   "cell_type": "markdown",
   "metadata": {},
   "source": [
    "## Clean up variants df  and four_fold so they are smaller dataframes now"
   ]
  },
  {
   "cell_type": "markdown",
   "metadata": {},
   "source": [
    "1. synonymous_queen = queen_df[queen_df['effect'].str.contains('synonymous_variant')]\n",
    "2. intron_queen = queen_df[queen_df['effect'].str.contains('intron_variant')]\n",
    "3. intergenic_queen = queen_df[queen_df['effect'] == 'intergenic_region']\n",
    "4. intragenic_queen = queen_df[queen_df['effect'] == 'intragenic_variant']\n",
    "5. missense_queen = queen_df[queen_df['effect'].str.contains('missense_variant')]\n",
    "6. five_prime_UTR_queen = queen_df[queen_df['effect'].str.contains('5_prime_UTR')]\n",
    "6. three_prime_UTR_queen = queen_df[queen_df['effect'].str.contains('3_prime_UTR')]"
   ]
  },
  {
   "cell_type": "code",
   "execution_count": 8,
   "metadata": {},
   "outputs": [],
   "source": [
    "variants = variants[['genes', 'AN', 'cal_af', 'effect', 'AC', 'AF']]\n",
    "four_fold = four_fold[['genes', 'AN', 'cal_af', 'effect', 'AC', 'AF']]"
   ]
  },
  {
   "cell_type": "code",
   "execution_count": 9,
   "metadata": {},
   "outputs": [],
   "source": [
    "# variants.to_csv('/data3/arshad_PNAS_data/newvcfs/final-tables/polistes-afs-bootstrap-input.table', index=False)\n",
    "# four_fold.to_csv('/data3/arshad_PNAS_data/newvcfs/final-tables/polistes-synonymous-afs-bootstrap-input.table', index=False)"
   ]
  },
  {
   "cell_type": "code",
   "execution_count": 10,
   "metadata": {},
   "outputs": [],
   "source": [
    "all_genes = [x for x in variants['genes'].unique() if str(x) != 'nan']"
   ]
  },
  {
   "cell_type": "code",
   "execution_count": 11,
   "metadata": {},
   "outputs": [
    {
     "data": {
      "text/plain": [
       "11768"
      ]
     },
     "execution_count": 11,
     "metadata": {},
     "output_type": "execute_result"
    }
   ],
   "source": [
    "len(all_genes)"
   ]
  },
  {
   "cell_type": "code",
   "execution_count": 12,
   "metadata": {},
   "outputs": [
    {
     "data": {
      "text/plain": [
       "array([ 0.,  9.,  1.,  4.,  3.,  2.,  5.,  7.,  6., 10.,  8.])"
      ]
     },
     "execution_count": 12,
     "metadata": {},
     "output_type": "execute_result"
    }
   ],
   "source": [
    "variants['cal_af'].unique()"
   ]
  },
  {
   "cell_type": "code",
   "execution_count": 14,
   "metadata": {
    "scrolled": true
   },
   "outputs": [],
   "source": [
    "! rm -r /home/arshad/polistes-worker-gene-afs\n",
    "! rm -r /home/arshad/dfe-alpha-release-2.16/site-class-0-output/bootstrap/polistes\n",
    "! rm -r /home/arshad/dfe-alpha-release-2.16/results_dir_sel/bootstrap/polistes\n",
    "! rm -r /home/arshad/dfe-alpha-release-2.16/configs/polistes\n",
    "\n",
    "! mkdir /home/arshad/polistes-worker-gene-afs\n",
    "! mkdir /home/arshad/polistes-worker-gene-afs/bootstrapping\n",
    "! mkdir /home/arshad/polistes-worker-gene-afs/bootstrapping/sfs\n",
    "! mkdir /home/arshad/polistes-worker-gene-afs/bootstrapping/dfe-estimates-worker\n",
    "! mkdir /home/arshad/dfe-alpha-release-2.16/configs/polistes\n",
    "! mkdir /home/arshad/dfe-alpha-release-2.16/results_dir_sel/bootstrap/polistes\n",
    "! mkdir /home/arshad/dfe-alpha-release-2.16/site-class-0-output/bootstrap/polistes \n",
    "\n",
    "def sfs_whole(i, gene_list):\n",
    "#     gene_list = worker_genes.copy()\n",
    "    \n",
    "    syn_gene_worker = four_fold.loc[four_fold['genes'].isin(gene_list)]\n",
    "    gene_intergenic_worker = variants[variants['effect'].str.contains('missense_variant', na=False)]\n",
    "    \n",
    "    gene_dataframes = [gene_intergenic_worker, syn_gene_worker]\n",
    "    gene_afs_names = ['intergenic', 'four_fold']\n",
    "    \n",
    "    afs = []\n",
    "    for data, name in zip(gene_dataframes, gene_afs_names):\n",
    "        indices = np.arange(0, gene_intergenic_worker['AN'].max() + 1, 1)\n",
    "        df = pd.DataFrame(data['cal_af'].value_counts().reindex(index=indices, fill_value='0').sort_index())\n",
    "        df.columns = [name]\n",
    "        afs.append(df)\n",
    "        \n",
    "    afs = pd.concat(afs, axis='columns')\n",
    "    afs = afs.T\n",
    "#     display(afs.head())\n",
    "    \n",
    "    afs.to_csv(f'/home/arshad/polistes-worker-gene-afs/bootstrapping/folded-polistes-worker-run-{i}.csv')\n",
    "    afs.to_csv(f'/home/arshad/polistes-worker-gene-afs/bootstrapping/sfs/sfs-run-{i}.txt', sep=' ', index=False, header=False)\n",
    "    \n",
    "    # Make sfs.txt file for dfe-alpha file\n",
    "    \n",
    "    with open(f'/home/arshad/polistes-worker-gene-afs/bootstrapping/sfs/sfs-run-{i}.txt', 'r+') as sfs_file:\n",
    "        file_data = sfs_file.read()\n",
    "        sfs_file.seek(0, 0)\n",
    "        sfs_file.write(\"1\\n\".rstrip('\\r\\n') + '\\n')\n",
    "        sfs_file.write(\"20\\n\".rstrip('\\r\\n') + '\\n')\n",
    "        sfs_file.write(file_data)\n",
    "        sfs_file.write(\"#polistes-All\")\n",
    "        sfs_file.close()\n",
    "    \n",
    "#     Config 1 file\n",
    "\n",
    "    ! mkdir /home/arshad/dfe-alpha-release-2.16/site-class-0-output/bootstrap/polistes/run-{i}\n",
    "\n",
    "    with open(f'/home/arshad/dfe-alpha-release-2.16/configs/polistes/config-{i}-1.txt', 'a') as sfs_file:\n",
    "        sfs_file.write(\"data_path_1     /home/arshad/dfe-alpha-release-2.16/data/\\n\")\n",
    "        sfs_file.write(\"data_path_2     /home/arshad/dfe-alpha-release-2.16/data-epoch-3/\\n\")\n",
    "        sfs_file.write(f\"sfs_input_file  /home/arshad/polistes-worker-gene-afs/bootstrapping/sfs/sfs-run-{i}.txt\\n\")\n",
    "        sfs_file.write(f\"est_dfe_results_dir    /home/arshad/dfe-alpha-release-2.16/site-class-0-output/bootstrap/polistes/run-{i}\\n\") \n",
    "        sfs_file.write(\"site_class 0\\n\")\n",
    "        sfs_file.write(\"fold       1\\n\")\n",
    "        sfs_file.write(\"epochs  2\\n\")\n",
    "        sfs_file.write(\"search_n2       1\\n\")\n",
    "        sfs_file.write(\"#n2     1000\\n\")\n",
    "        sfs_file.write(\"t2_variable     1\\n\")\n",
    "        sfs_file.write(\"t2              1000\\n\")\n",
    "        sfs_file.close()\n",
    "\n",
    "  # Config 2 file\n",
    "    ! mkdir /home/arshad/dfe-alpha-release-2.16/results_dir_sel/bootstrap/polistes/run-{i}\n",
    "\n",
    "    with open(f'/home/arshad/dfe-alpha-release-2.16/configs/polistes/config-{i}-2.txt', 'a') as sfs_file:\n",
    "        sfs_file.write(\"data_path_1     /home/arshad/dfe-alpha-release-2.16/data/\\n\")\n",
    "        sfs_file.write(\"data_path_2     /home/arshad/dfe-alpha-release-2.16/data-epoch-3/\\n\")\n",
    "        sfs_file.write(f\"sfs_input_file  /home/arshad/polistes-worker-gene-afs/bootstrapping/sfs/sfs-run-{i}.txt\\n\")\n",
    "        sfs_file.write(f\"est_dfe_results_dir    /home/arshad/dfe-alpha-release-2.16/results_dir_sel/bootstrap/polistes/run-{i}/\\n\") \n",
    "        sfs_file.write(f\"est_dfe_demography_results_file   /home/arshad/dfe-alpha-release-2.16/site-class-0-output/bootstrap/polistes/run-{i}/est_dfe.out\\n\") \n",
    "        sfs_file.write(\"site_class 1\\n\")\n",
    "        sfs_file.write(\"fold 1\\n\")\n",
    "        sfs_file.write(\"epochs  2\\n\")\n",
    "        sfs_file.write(\"mean_s_variable 1\\n\")\n",
    "        sfs_file.write(\"mean_s -0.001\\n\")\n",
    "        sfs_file.write(\"beta_variable 1\\n\")\n",
    "        sfs_file.write(\"beta 0.005\\n\")\n",
    "        sfs_file.close()\n",
    "\n",
    "    ! nohup /home/arshad/dfe-alpha-release-2.16/est_dfe -c /home/arshad/dfe-alpha-release-2.16/configs/polistes/config-{i}-1.txt\n",
    "    ! nohup /home/arshad/dfe-alpha-release-2.16/est_dfe -c /home/arshad/dfe-alpha-release-2.16/configs/polistes/config-{i}-2.txt\n",
    "    ! /home/arshad/dfe-alpha-release-2.16/prop_muts_in_s_ranges -c /home/arshad/dfe-alpha-release-2.16/results_dir_sel/bootstrap/polistes/run-{i}/est_dfe.out -o /home/arshad/polistes-worker-gene-afs/bootstrapping/dfe-estimates-worker/run-{i}-estimates.txt"
   ]
  },
  {
   "cell_type": "code",
   "execution_count": 15,
   "metadata": {},
   "outputs": [
    {
     "name": "stdout",
     "output_type": "stream",
     "text": [
      "nohup: ignoring input and appending output to 'nohup.out'\n",
      "nohup: ignoring input and appending output to 'nohup.out'\n",
      "prop_muts_in_s_ranges.c: version 1.02\n",
      "Output file expected\n",
      "Opened file /home/arshad/polistes-worker-gene-afs/bootstrapping/dfe-estimates-worker/run-0-estimates.txt for write, overwrite mode.\n",
      "n2 132.650000\n",
      "es -7574.044953\n",
      "beta 0.118800\n",
      "mean_ns 1004697.063015\n",
      "lower 0.000000 upper 1.000000 area 0.159242\n",
      "lower 1.000000 upper 10.000000 area 0.050100\n",
      "lower 10.000000 upper 100.000000 area 0.065863\n",
      "lower 100.000000 upper -99.000000 area 0.724795\n",
      "Total area 1.000000\n"
     ]
    }
   ],
   "source": [
    "for i in range(1):\n",
    "    sfs_whole(i, all_genes)"
   ]
  },
  {
   "cell_type": "code",
   "execution_count": 15,
   "metadata": {
    "scrolled": true
   },
   "outputs": [
    {
     "name": "stderr",
     "output_type": "stream",
     "text": [
      "  1%|          | 39/5000 [00:19<1:57:02,  1.42s/it]"
     ]
    },
    {
     "name": "stdout",
     "output_type": "stream",
     "text": [
      "nohup: ignoring input and appending output to 'nohup.out'\n",
      "nohup: ignoring input and appending output to 'nohup.out'\n",
      "nohup: ignoring input and appending output to 'nohup.out'\n",
      "nohup: ignoring input and appending output to 'nohup.out'\n",
      "nohup: ignoring input and appending output to 'nohup.out'\n",
      "nohup: ignoring input and appending output to 'nohup.out'\n",
      "nohup: ignoring input and appending output to 'nohup.out'\n",
      "nohup: ignoring input and appending output to 'nohup.out'\n",
      "nohup: ignoring input and appending output to 'nohup.out'\n",
      "nohup: ignoring input and appending output to 'nohup.out'\n",
      "nohup: ignoring input and appending output to 'nohup.out'\n",
      "nohup: ignoring input and appending output to 'nohup.out'\n",
      "nohup: ignoring input and appending output to 'nohup.out'\n",
      "nohup: ignoring input and appending output to 'nohup.out'\n",
      "nohup: ignoring input and appending output to 'nohup.out'\n",
      "nohup: ignoring input and appending output to 'nohup.out'\n",
      "nohup: ignoring input and appending output to 'nohup.out'\n",
      "nohup: ignoring input and appending output to 'nohup.out'\n",
      "nohup: ignoring input and appending output to 'nohup.out'\n",
      "nohup: ignoring input and appending output to 'nohup.out'\n",
      "nohup: ignoring input and appending output to 'nohup.out'\n",
      "nohup: ignoring input and appending output to 'nohup.out'\n",
      "nohup: ignoring input and appending output to 'nohup.out'\n",
      "nohup: ignoring input and appending output to 'nohup.out'\n",
      "nohup: ignoring input and appending output to 'nohup.out'\n",
      "nohup: ignoring input and appending output to 'nohup.out'\n",
      "nohup: ignoring input and appending output to 'nohup.out'\n",
      "nohup: ignoring input and appending output to 'nohup.out'\n",
      "nohup: ignoring input and appending output to 'nohup.out'\n",
      "nohup: ignoring input and appending output to 'nohup.out'\n",
      "nohup: ignoring input and appending output to 'nohup.out'\n"
     ]
    },
    {
     "name": "stderr",
     "output_type": "stream",
     "text": [
      "\r",
      "  1%|          | 40/5000 [01:40<41:38:53, 30.23s/it]"
     ]
    },
    {
     "name": "stdout",
     "output_type": "stream",
     "text": [
      "nohup: ignoring input and appending output to 'nohup.out'\n",
      "nohup: ignoring input and appending output to 'nohup.out'\n"
     ]
    },
    {
     "name": "stderr",
     "output_type": "stream",
     "text": [
      "\r",
      "  1%|          | 42/5000 [01:40<29:10:35, 21.19s/it]"
     ]
    },
    {
     "name": "stdout",
     "output_type": "stream",
     "text": [
      "nohup: ignoring input and appending output to 'nohup.out'\n",
      "nohup: ignoring input and appending output to 'nohup.out'\n"
     ]
    },
    {
     "name": "stderr",
     "output_type": "stream",
     "text": [
      "\r",
      "  1%|          | 45/5000 [01:40<20:26:18, 14.85s/it]"
     ]
    },
    {
     "name": "stdout",
     "output_type": "stream",
     "text": [
      "nohup: ignoring input and appending output to 'nohup.out'\n",
      "nohup: ignoring input and appending output to 'nohup.out'\n"
     ]
    },
    {
     "name": "stderr",
     "output_type": "stream",
     "text": [
      "\r",
      "  1%|          | 46/5000 [01:41<14:22:40, 10.45s/it]"
     ]
    },
    {
     "name": "stdout",
     "output_type": "stream",
     "text": [
      "nohup: ignoring input and appending output to 'nohup.out'\r\n"
     ]
    },
    {
     "name": "stderr",
     "output_type": "stream",
     "text": [
      "\r",
      "  1%|          | 49/5000 [01:41<10:06:46,  7.35s/it]"
     ]
    },
    {
     "name": "stdout",
     "output_type": "stream",
     "text": [
      "nohup: ignoring input and appending output to 'nohup.out'\r\n"
     ]
    },
    {
     "name": "stderr",
     "output_type": "stream",
     "text": [
      "\r",
      "  1%|          | 50/5000 [01:42<7:19:51,  5.33s/it] "
     ]
    },
    {
     "name": "stdout",
     "output_type": "stream",
     "text": [
      "nohup: ignoring input and appending output to 'nohup.out'\r\n"
     ]
    },
    {
     "name": "stderr",
     "output_type": "stream",
     "text": [
      "\r",
      "  1%|          | 51/5000 [01:42<5:13:23,  3.80s/it]"
     ]
    },
    {
     "name": "stdout",
     "output_type": "stream",
     "text": [
      "nohup: ignoring input and appending output to 'nohup.out'\n",
      "nohup: ignoring input and appending output to 'nohup.out'\n"
     ]
    },
    {
     "name": "stderr",
     "output_type": "stream",
     "text": [
      "\r",
      "  1%|          | 52/5000 [01:42<3:49:52,  2.79s/it]"
     ]
    },
    {
     "name": "stdout",
     "output_type": "stream",
     "text": [
      "nohup: ignoring input and appending output to 'nohup.out'\n",
      "nohup: ignoring input and appending output to 'nohup.out'\n"
     ]
    },
    {
     "name": "stderr",
     "output_type": "stream",
     "text": [
      "\r",
      "  1%|          | 53/5000 [01:45<3:52:54,  2.82s/it]"
     ]
    },
    {
     "name": "stdout",
     "output_type": "stream",
     "text": [
      "nohup: ignoring input and appending output to 'nohup.out'\r\n"
     ]
    },
    {
     "name": "stderr",
     "output_type": "stream",
     "text": [
      "\r",
      "  1%|          | 54/5000 [01:46<3:02:45,  2.22s/it]"
     ]
    },
    {
     "ename": "KeyboardInterrupt",
     "evalue": "",
     "output_type": "error",
     "traceback": [
      "\u001b[0;31m---------------------------------------------------------------------------\u001b[0m",
      "\u001b[0;31mKeyboardInterrupt\u001b[0m                         Traceback (most recent call last)",
      "\u001b[0;32m<timed eval>\u001b[0m in \u001b[0;36m<module>\u001b[0;34m()\u001b[0m\n",
      "\u001b[0;32m~/miniconda3/lib/python3.6/site-packages/sklearn/externals/joblib/parallel.py\u001b[0m in \u001b[0;36m__call__\u001b[0;34m(self, iterable)\u001b[0m\n\u001b[1;32m    787\u001b[0m                 \u001b[0;31m# consumption.\u001b[0m\u001b[0;34m\u001b[0m\u001b[0;34m\u001b[0m\u001b[0m\n\u001b[1;32m    788\u001b[0m                 \u001b[0mself\u001b[0m\u001b[0;34m.\u001b[0m\u001b[0m_iterating\u001b[0m \u001b[0;34m=\u001b[0m \u001b[0;32mFalse\u001b[0m\u001b[0;34m\u001b[0m\u001b[0m\n\u001b[0;32m--> 789\u001b[0;31m             \u001b[0mself\u001b[0m\u001b[0;34m.\u001b[0m\u001b[0mretrieve\u001b[0m\u001b[0;34m(\u001b[0m\u001b[0;34m)\u001b[0m\u001b[0;34m\u001b[0m\u001b[0m\n\u001b[0m\u001b[1;32m    790\u001b[0m             \u001b[0;31m# Make sure that we get a last message telling us we are done\u001b[0m\u001b[0;34m\u001b[0m\u001b[0;34m\u001b[0m\u001b[0m\n\u001b[1;32m    791\u001b[0m             \u001b[0melapsed_time\u001b[0m \u001b[0;34m=\u001b[0m \u001b[0mtime\u001b[0m\u001b[0;34m.\u001b[0m\u001b[0mtime\u001b[0m\u001b[0;34m(\u001b[0m\u001b[0;34m)\u001b[0m \u001b[0;34m-\u001b[0m \u001b[0mself\u001b[0m\u001b[0;34m.\u001b[0m\u001b[0m_start_time\u001b[0m\u001b[0;34m\u001b[0m\u001b[0m\n",
      "\u001b[0;32m~/miniconda3/lib/python3.6/site-packages/sklearn/externals/joblib/parallel.py\u001b[0m in \u001b[0;36mretrieve\u001b[0;34m(self)\u001b[0m\n\u001b[1;32m    697\u001b[0m             \u001b[0;32mtry\u001b[0m\u001b[0;34m:\u001b[0m\u001b[0;34m\u001b[0m\u001b[0m\n\u001b[1;32m    698\u001b[0m                 \u001b[0;32mif\u001b[0m \u001b[0mgetattr\u001b[0m\u001b[0;34m(\u001b[0m\u001b[0mself\u001b[0m\u001b[0;34m.\u001b[0m\u001b[0m_backend\u001b[0m\u001b[0;34m,\u001b[0m \u001b[0;34m'supports_timeout'\u001b[0m\u001b[0;34m,\u001b[0m \u001b[0;32mFalse\u001b[0m\u001b[0;34m)\u001b[0m\u001b[0;34m:\u001b[0m\u001b[0;34m\u001b[0m\u001b[0m\n\u001b[0;32m--> 699\u001b[0;31m                     \u001b[0mself\u001b[0m\u001b[0;34m.\u001b[0m\u001b[0m_output\u001b[0m\u001b[0;34m.\u001b[0m\u001b[0mextend\u001b[0m\u001b[0;34m(\u001b[0m\u001b[0mjob\u001b[0m\u001b[0;34m.\u001b[0m\u001b[0mget\u001b[0m\u001b[0;34m(\u001b[0m\u001b[0mtimeout\u001b[0m\u001b[0;34m=\u001b[0m\u001b[0mself\u001b[0m\u001b[0;34m.\u001b[0m\u001b[0mtimeout\u001b[0m\u001b[0;34m)\u001b[0m\u001b[0;34m)\u001b[0m\u001b[0;34m\u001b[0m\u001b[0m\n\u001b[0m\u001b[1;32m    700\u001b[0m                 \u001b[0;32melse\u001b[0m\u001b[0;34m:\u001b[0m\u001b[0;34m\u001b[0m\u001b[0m\n\u001b[1;32m    701\u001b[0m                     \u001b[0mself\u001b[0m\u001b[0;34m.\u001b[0m\u001b[0m_output\u001b[0m\u001b[0;34m.\u001b[0m\u001b[0mextend\u001b[0m\u001b[0;34m(\u001b[0m\u001b[0mjob\u001b[0m\u001b[0;34m.\u001b[0m\u001b[0mget\u001b[0m\u001b[0;34m(\u001b[0m\u001b[0;34m)\u001b[0m\u001b[0;34m)\u001b[0m\u001b[0;34m\u001b[0m\u001b[0m\n",
      "\u001b[0;32m~/miniconda3/lib/python3.6/multiprocessing/pool.py\u001b[0m in \u001b[0;36mget\u001b[0;34m(self, timeout)\u001b[0m\n\u001b[1;32m    636\u001b[0m \u001b[0;34m\u001b[0m\u001b[0m\n\u001b[1;32m    637\u001b[0m     \u001b[0;32mdef\u001b[0m \u001b[0mget\u001b[0m\u001b[0;34m(\u001b[0m\u001b[0mself\u001b[0m\u001b[0;34m,\u001b[0m \u001b[0mtimeout\u001b[0m\u001b[0;34m=\u001b[0m\u001b[0;32mNone\u001b[0m\u001b[0;34m)\u001b[0m\u001b[0;34m:\u001b[0m\u001b[0;34m\u001b[0m\u001b[0m\n\u001b[0;32m--> 638\u001b[0;31m         \u001b[0mself\u001b[0m\u001b[0;34m.\u001b[0m\u001b[0mwait\u001b[0m\u001b[0;34m(\u001b[0m\u001b[0mtimeout\u001b[0m\u001b[0;34m)\u001b[0m\u001b[0;34m\u001b[0m\u001b[0m\n\u001b[0m\u001b[1;32m    639\u001b[0m         \u001b[0;32mif\u001b[0m \u001b[0;32mnot\u001b[0m \u001b[0mself\u001b[0m\u001b[0;34m.\u001b[0m\u001b[0mready\u001b[0m\u001b[0;34m(\u001b[0m\u001b[0;34m)\u001b[0m\u001b[0;34m:\u001b[0m\u001b[0;34m\u001b[0m\u001b[0m\n\u001b[1;32m    640\u001b[0m             \u001b[0;32mraise\u001b[0m \u001b[0mTimeoutError\u001b[0m\u001b[0;34m\u001b[0m\u001b[0m\n",
      "\u001b[0;32m~/miniconda3/lib/python3.6/multiprocessing/pool.py\u001b[0m in \u001b[0;36mwait\u001b[0;34m(self, timeout)\u001b[0m\n\u001b[1;32m    633\u001b[0m \u001b[0;34m\u001b[0m\u001b[0m\n\u001b[1;32m    634\u001b[0m     \u001b[0;32mdef\u001b[0m \u001b[0mwait\u001b[0m\u001b[0;34m(\u001b[0m\u001b[0mself\u001b[0m\u001b[0;34m,\u001b[0m \u001b[0mtimeout\u001b[0m\u001b[0;34m=\u001b[0m\u001b[0;32mNone\u001b[0m\u001b[0;34m)\u001b[0m\u001b[0;34m:\u001b[0m\u001b[0;34m\u001b[0m\u001b[0m\n\u001b[0;32m--> 635\u001b[0;31m         \u001b[0mself\u001b[0m\u001b[0;34m.\u001b[0m\u001b[0m_event\u001b[0m\u001b[0;34m.\u001b[0m\u001b[0mwait\u001b[0m\u001b[0;34m(\u001b[0m\u001b[0mtimeout\u001b[0m\u001b[0;34m)\u001b[0m\u001b[0;34m\u001b[0m\u001b[0m\n\u001b[0m\u001b[1;32m    636\u001b[0m \u001b[0;34m\u001b[0m\u001b[0m\n\u001b[1;32m    637\u001b[0m     \u001b[0;32mdef\u001b[0m \u001b[0mget\u001b[0m\u001b[0;34m(\u001b[0m\u001b[0mself\u001b[0m\u001b[0;34m,\u001b[0m \u001b[0mtimeout\u001b[0m\u001b[0;34m=\u001b[0m\u001b[0;32mNone\u001b[0m\u001b[0;34m)\u001b[0m\u001b[0;34m:\u001b[0m\u001b[0;34m\u001b[0m\u001b[0m\n",
      "\u001b[0;32m~/miniconda3/lib/python3.6/threading.py\u001b[0m in \u001b[0;36mwait\u001b[0;34m(self, timeout)\u001b[0m\n\u001b[1;32m    549\u001b[0m             \u001b[0msignaled\u001b[0m \u001b[0;34m=\u001b[0m \u001b[0mself\u001b[0m\u001b[0;34m.\u001b[0m\u001b[0m_flag\u001b[0m\u001b[0;34m\u001b[0m\u001b[0m\n\u001b[1;32m    550\u001b[0m             \u001b[0;32mif\u001b[0m \u001b[0;32mnot\u001b[0m \u001b[0msignaled\u001b[0m\u001b[0;34m:\u001b[0m\u001b[0;34m\u001b[0m\u001b[0m\n\u001b[0;32m--> 551\u001b[0;31m                 \u001b[0msignaled\u001b[0m \u001b[0;34m=\u001b[0m \u001b[0mself\u001b[0m\u001b[0;34m.\u001b[0m\u001b[0m_cond\u001b[0m\u001b[0;34m.\u001b[0m\u001b[0mwait\u001b[0m\u001b[0;34m(\u001b[0m\u001b[0mtimeout\u001b[0m\u001b[0;34m)\u001b[0m\u001b[0;34m\u001b[0m\u001b[0m\n\u001b[0m\u001b[1;32m    552\u001b[0m             \u001b[0;32mreturn\u001b[0m \u001b[0msignaled\u001b[0m\u001b[0;34m\u001b[0m\u001b[0m\n\u001b[1;32m    553\u001b[0m \u001b[0;34m\u001b[0m\u001b[0m\n",
      "\u001b[0;32m~/miniconda3/lib/python3.6/threading.py\u001b[0m in \u001b[0;36mwait\u001b[0;34m(self, timeout)\u001b[0m\n\u001b[1;32m    293\u001b[0m         \u001b[0;32mtry\u001b[0m\u001b[0;34m:\u001b[0m    \u001b[0;31m# restore state no matter what (e.g., KeyboardInterrupt)\u001b[0m\u001b[0;34m\u001b[0m\u001b[0m\n\u001b[1;32m    294\u001b[0m             \u001b[0;32mif\u001b[0m \u001b[0mtimeout\u001b[0m \u001b[0;32mis\u001b[0m \u001b[0;32mNone\u001b[0m\u001b[0;34m:\u001b[0m\u001b[0;34m\u001b[0m\u001b[0m\n\u001b[0;32m--> 295\u001b[0;31m                 \u001b[0mwaiter\u001b[0m\u001b[0;34m.\u001b[0m\u001b[0macquire\u001b[0m\u001b[0;34m(\u001b[0m\u001b[0;34m)\u001b[0m\u001b[0;34m\u001b[0m\u001b[0m\n\u001b[0m\u001b[1;32m    296\u001b[0m                 \u001b[0mgotit\u001b[0m \u001b[0;34m=\u001b[0m \u001b[0;32mTrue\u001b[0m\u001b[0;34m\u001b[0m\u001b[0m\n\u001b[1;32m    297\u001b[0m             \u001b[0;32melse\u001b[0m\u001b[0;34m:\u001b[0m\u001b[0;34m\u001b[0m\u001b[0m\n",
      "\u001b[0;31mKeyboardInterrupt\u001b[0m: "
     ]
    }
   ],
   "source": [
    "%%time\n",
    "Parallel(n_jobs=20)(delayed(sfs_whole)(i, np.random.choice(all_genes, len(all_genes))) for i in trange(5000))"
   ]
  },
  {
   "cell_type": "code",
   "execution_count": 16,
   "metadata": {},
   "outputs": [
    {
     "name": "stderr",
     "output_type": "stream",
     "text": [
      "\n",
      "  0%|          | 0/73 [00:00<?, ?it/s]\u001b[A\n",
      "  1%|▏         | 1/73 [00:00<00:20,  3.60it/s]\u001b[A\n",
      " 18%|█▊        | 13/73 [00:00<00:11,  5.07it/s]\u001b[A\n",
      " 32%|███▏      | 23/73 [00:00<00:07,  7.08it/s]\u001b[A\n",
      " 49%|████▉     | 36/73 [00:00<00:03,  9.88it/s]\u001b[A\n",
      " 77%|███████▋  | 56/73 [00:00<00:01, 13.82it/s]\u001b[A\n",
      "74it [00:00, 19.03it/s]                        \u001b[A\n",
      "102it [00:00, 26.41it/s]\u001b[A\n",
      "130it [00:01, 36.25it/s]\u001b[A\n",
      "162it [00:01, 49.36it/s]\u001b[A\n",
      "196it [00:01, 65.96it/s]\u001b[A\n",
      "227it [00:01, 86.25it/s]\u001b[A\n",
      "259it [00:01, 110.37it/s]\u001b[A\n",
      "291it [00:01, 137.34it/s]\u001b[A\n",
      "321it [00:01, 162.69it/s]\u001b[A\n",
      "351it [00:01, 187.78it/s]\u001b[A\n",
      "383it [00:01, 213.98it/s]\u001b[A\n",
      "418it [00:01, 241.09it/s]\u001b[A\n",
      "453it [00:02, 265.54it/s]\u001b[A\n",
      "486it [00:02, 275.45it/s]\u001b[A\n",
      "521it [00:02, 294.21it/s]\u001b[A\n",
      "556it [00:02, 308.09it/s]\u001b[A\n",
      "591it [00:02, 319.11it/s]\u001b[A\n",
      "626it [00:02, 326.96it/s]\u001b[A\n",
      "661it [00:02, 333.26it/s]\u001b[A\n",
      "696it [00:02, 324.33it/s]\u001b[A\n",
      "731it [00:02, 329.88it/s]\u001b[A\n",
      "766it [00:02, 333.85it/s]\u001b[A\n",
      "801it [00:03, 336.55it/s]\u001b[A\n",
      "836it [00:03, 339.56it/s]\u001b[A\n",
      "871it [00:03, 340.51it/s]\u001b[A\n",
      "906it [00:03, 342.63it/s]\u001b[A\n",
      "941it [00:03, 337.81it/s]\u001b[A\n",
      "975it [00:03, 335.80it/s]\u001b[A\n",
      "1010it [00:03, 338.88it/s]\u001b[A\n",
      "1044it [00:03, 328.63it/s]\u001b[A\n",
      "1078it [00:03, 331.72it/s]\u001b[A\n",
      "1112it [00:03, 332.06it/s]\u001b[A\n",
      "1147it [00:04, 337.09it/s]\u001b[A\n",
      "1181it [00:04, 269.57it/s]\u001b[A\n",
      "1211it [00:04, 262.94it/s]\u001b[A\n",
      "1239it [00:04, 239.60it/s]\u001b[A\n",
      "1265it [00:04, 240.82it/s]\u001b[A\n",
      "1291it [00:04, 222.15it/s]\u001b[A\n",
      "1322it [00:04, 242.40it/s]\u001b[A\n",
      "1348it [00:05, 217.93it/s]\u001b[A\n",
      "1372it [00:05, 206.86it/s]\u001b[A\n",
      "1394it [00:05, 200.23it/s]\u001b[A\n",
      "1418it [00:05, 209.72it/s]\u001b[A\n",
      "1445it [00:05, 222.72it/s]\u001b[A\n",
      "1471it [00:05, 231.00it/s]\u001b[A\n",
      "1498it [00:05, 240.36it/s]\u001b[A\n",
      "1524it [00:05, 244.03it/s]\u001b[A\n",
      "1551it [00:05, 249.04it/s]\u001b[A\n",
      "1577it [00:05, 250.81it/s]\u001b[A\n",
      "1603it [00:06, 229.04it/s]\u001b[A\n",
      "1627it [00:06, 152.65it/s]\u001b[A\n",
      "1646it [00:06, 160.22it/s]\u001b[A\n",
      "1673it [00:06, 181.31it/s]\u001b[A\n",
      "1701it [00:06, 201.66it/s]\u001b[A\n",
      "1727it [00:06, 215.23it/s]\u001b[A\n",
      "1754it [00:06, 228.22it/s]\u001b[A\n",
      "1782it [00:07, 239.85it/s]\u001b[A\n",
      "1809it [00:07, 244.37it/s]\u001b[A\n",
      "1835it [00:07, 227.35it/s]\u001b[A\n",
      "1861it [00:07, 234.93it/s]\u001b[A\n",
      "1886it [00:07, 169.28it/s]\u001b[A\n",
      "1910it [00:07, 185.17it/s]\u001b[A\n",
      "1937it [00:07, 204.17it/s]\u001b[A\n",
      "1960it [00:07, 208.10it/s]\u001b[A\n",
      "1987it [00:08, 222.99it/s]\u001b[A\n",
      "2014it [00:08, 234.58it/s]\u001b[A\n",
      "2041it [00:08, 243.99it/s]\u001b[A\n",
      "2068it [00:08, 250.85it/s]\u001b[A\n",
      "2095it [00:08, 255.35it/s]\u001b[A\n",
      "2122it [00:08, 258.33it/s]\u001b[A\n",
      "2149it [00:08, 260.96it/s]\u001b[A\n",
      "2176it [00:08, 262.68it/s]\u001b[A\n",
      "2203it [00:08, 264.05it/s]\u001b[A\n",
      "2230it [00:08, 264.09it/s]\u001b[A\n",
      "2257it [00:09, 262.09it/s]\u001b[A\n",
      "2284it [00:09, 263.80it/s]\u001b[A\n",
      "2311it [00:09, 264.64it/s]\u001b[A\n",
      "2338it [00:09, 249.88it/s]\u001b[A\n",
      "2364it [00:09, 224.65it/s]\u001b[A\n",
      "2388it [00:09, 225.01it/s]\u001b[A\n",
      "2414it [00:09, 234.06it/s]\u001b[A\n",
      "2441it [00:09, 241.63it/s]\u001b[A\n",
      "2466it [00:09, 233.06it/s]\u001b[A\n",
      "2493it [00:10, 242.22it/s]\u001b[A\n",
      "2518it [00:10, 238.84it/s]\u001b[A\n",
      "2543it [00:10, 219.36it/s]\u001b[A\n",
      "2569it [00:10, 229.30it/s]\u001b[A\n",
      "2596it [00:10, 238.30it/s]\u001b[A\n",
      "2622it [00:10, 244.38it/s]\u001b[A\n",
      "2649it [00:10, 250.47it/s]\u001b[A\n",
      "2676it [00:10, 255.19it/s]\u001b[A\n",
      "2703it [00:10, 258.41it/s]\u001b[A\n",
      "2729it [00:11, 246.14it/s]\u001b[A\n",
      "2756it [00:11, 252.54it/s]\u001b[A\n",
      "2782it [00:11, 220.94it/s]\u001b[A\n",
      "2805it [00:11, 219.71it/s]\u001b[A\n",
      "2828it [00:11, 200.70it/s]\u001b[A\n",
      "2849it [00:11, 202.41it/s]\u001b[A\n",
      "2876it [00:11, 218.11it/s]\u001b[A\n",
      "2903it [00:11, 229.63it/s]\u001b[A\n",
      "2927it [00:11, 214.17it/s]\u001b[A\n",
      "2950it [00:12, 212.27it/s]\u001b[A\n",
      "2975it [00:12, 221.68it/s]\u001b[A\n",
      "2998it [00:12, 198.00it/s]\u001b[A\n",
      "3019it [00:12, 188.09it/s]\u001b[A\n",
      "3039it [00:12, 173.96it/s]\u001b[A\n",
      "3058it [00:12, 174.45it/s]\u001b[A\n",
      "3084it [00:12, 192.23it/s]\u001b[A\n",
      "3112it [00:12, 210.50it/s]\u001b[A\n",
      "3138it [00:12, 223.11it/s]\u001b[A\n",
      "3166it [00:13, 235.41it/s]\u001b[A\n",
      "3191it [00:13, 226.18it/s]\u001b[A\n",
      "3215it [00:13, 215.56it/s]\u001b[A\n",
      "3242it [00:13, 227.69it/s]\u001b[A\n",
      "3266it [00:13, 229.62it/s]\u001b[A\n",
      "3292it [00:13, 237.44it/s]\u001b[A\n",
      "3319it [00:13, 245.56it/s]\u001b[A\n",
      "3344it [00:13, 238.73it/s]\u001b[A\n",
      "3371it [00:13, 245.96it/s]\u001b[A\n",
      "3396it [00:14, 245.20it/s]\u001b[A\n",
      "3423it [00:14, 251.42it/s]\u001b[A\n",
      "3449it [00:14, 213.73it/s]\u001b[A\n",
      "3472it [00:14, 212.84it/s]\u001b[A\n",
      "3496it [00:14, 218.58it/s]\u001b[A\n",
      "3523it [00:14, 230.97it/s]\u001b[A\n",
      "3549it [00:14, 237.84it/s]\u001b[A\n",
      "3575it [00:14, 239.64it/s]\u001b[A\n",
      "3600it [00:14, 215.98it/s]\u001b[A\n",
      "3623it [00:15, 218.81it/s]\u001b[A\n",
      "3646it [00:15, 221.91it/s]\u001b[A\n",
      "3669it [00:15, 210.18it/s]\u001b[A\n",
      "3691it [00:15, 201.29it/s]\u001b[A\n",
      "3712it [00:15, 178.11it/s]\u001b[A\n",
      "3734it [00:15, 187.78it/s]\u001b[A\n",
      "3761it [00:15, 205.68it/s]\u001b[A\n",
      "3788it [00:15, 220.88it/s]\u001b[A\n",
      "3815it [00:15, 232.70it/s]\u001b[A\n",
      "3840it [00:16, 227.86it/s]\u001b[A\n",
      "3864it [00:16, 212.98it/s]\u001b[A\n",
      "3886it [00:16, 209.32it/s]\u001b[A\n",
      "3912it [00:16, 220.98it/s]\u001b[A\n",
      "3935it [00:16, 211.26it/s]\u001b[A\n",
      "3958it [00:16, 215.95it/s]\u001b[A\n",
      "3986it [00:16, 229.77it/s]\u001b[A\n",
      "4014it [00:16, 241.17it/s]\u001b[A\n",
      "4041it [00:16, 248.55it/s]\u001b[A\n",
      "4069it [00:17, 255.44it/s]\u001b[A\n",
      "4096it [00:17, 255.37it/s]\u001b[A\n",
      "4122it [00:17, 233.23it/s]\u001b[A\n",
      "4149it [00:17, 242.19it/s]\u001b[A\n",
      "4174it [00:17, 242.89it/s]\u001b[A\n",
      "4201it [00:17, 249.54it/s]\u001b[A\n",
      "4228it [00:17, 254.05it/s]\u001b[A\n",
      "4254it [00:17, 254.63it/s]\u001b[A\n",
      "4281it [00:17, 258.13it/s]\u001b[A\n",
      "4308it [00:18, 259.75it/s]\u001b[A\n",
      "4335it [00:18, 261.93it/s]\u001b[A\n",
      "4362it [00:18, 233.33it/s]\u001b[A\n",
      "4386it [00:18, 220.93it/s]\u001b[A\n",
      "4413it [00:18, 232.22it/s]\u001b[A\n",
      "4440it [00:18, 241.01it/s]\u001b[A\n",
      "4465it [00:19, 73.91it/s] \u001b[A\n",
      "4484it [00:19, 89.20it/s]\u001b[A\n",
      "4510it [00:19, 110.96it/s]\u001b[A\n",
      "4536it [00:19, 133.35it/s]\u001b[A\n",
      "4563it [00:19, 156.70it/s]\u001b[A\n",
      "4590it [00:19, 178.43it/s]\u001b[A\n",
      "4617it [00:20, 197.77it/s]\u001b[A\n",
      "4643it [00:20, 212.91it/s]\u001b[A\n",
      "4670it [00:20, 226.00it/s]\u001b[A\n",
      "4696it [00:20, 225.89it/s]\u001b[A\n",
      "4721it [00:20, 225.20it/s]\u001b[A\n",
      "4748it [00:20, 235.92it/s]\u001b[A\n",
      "4774it [00:20, 242.52it/s]\u001b[A\n",
      "4801it [00:20, 249.16it/s]\u001b[A\n",
      "4828it [00:20, 253.58it/s]\u001b[A\n",
      "4855it [00:21, 257.51it/s]\u001b[A\n",
      "4882it [00:21, 259.93it/s]\u001b[A\n",
      "4909it [00:21, 260.91it/s]\u001b[A\n",
      "4936it [00:21, 262.66it/s]\u001b[A\n",
      "4963it [00:21, 263.00it/s]\u001b[A\n",
      "4990it [00:21, 154.60it/s]\u001b[A\n",
      "5000it [00:21, 228.95it/s]\u001b[A"
     ]
    }
   ],
   "source": [
    "negative_selection = [] # Will be at the complete top of the script\n",
    "\n",
    "path_folder = '/home/arshad/polistes-worker-gene-afs/bootstrapping/dfe-estimates-worker/'\n",
    "\n",
    "for file in tqdm(os.listdir(path_folder), total=len(path_folder)):\n",
    "    df = pd.read_csv(f'{path_folder}/{file}', sep=' ', header=None)\n",
    "    df.columns = ['rand1', 'rand2', 'one', 'rand3', 'rand4', 'ten', 'rand5', 'rand6', 'hundred', 'rand7', \n",
    "                  'rand8', 'infinity', 'check']\n",
    "    df.drop(columns =[column for column in df.columns if 'rand' in column], inplace=True)\n",
    "    \n",
    "    negative_selection.append(df)\n",
    "\n",
    "missense_estimates = pd.concat(negative_selection)\n",
    "missense_estimates\n",
    "missense_estimates.to_csv('/home/arshad/polistes-intergenic-all-parallel-proper-5kiterations.csv', index=False) #<-----"
   ]
  },
  {
   "cell_type": "markdown",
   "metadata": {},
   "source": [
    "# Point estimate"
   ]
  },
  {
   "cell_type": "code",
   "execution_count": null,
   "metadata": {},
   "outputs": [],
   "source": [
    "! rm -r /home/arshad/polistes-queen-gene-afs\n",
    "! rm -r /home/arshad/dfe-alpha-release-2.16/site-class-0-output/bootstrap/run*\n",
    "! rm -r /home/arshad/dfe-alpha-release-2.16/results_dir_sel/bootstrap/run*\n",
    "! rm /home/arshad/dfe-alpha-release-2.16/configs/config*\n",
    "\n",
    "! mkdir /home/arshad/polistes-queen-gene-afs\n",
    "! mkdir /home/arshad/polistes-queen-gene-afs/bootstrapping\n",
    "! mkdir /home/arshad/polistes-queen-gene-afs/bootstrapping/sfs\n",
    "! mkdir /home/arshad/polistes-queen-gene-afs/bootstrapping/dfe-estimates-queen\n",
    "\n",
    "def sfs_test(i, gene_list):\n",
    "    gene_queen = queen_df.loc[queen_df['genes'].isin(gene_list)]\n",
    "\n",
    "    syn_gene_queen = queen_four_fold.loc[queen_four_fold['genes'].isin(gene_list)]\n",
    "    gene_missense_queen = gene_queen[gene_queen['effect'].str.contains('missense_variant')]\n",
    "    \n",
    "    gene_dataframes = [gene_missense_queen, syn_gene_queen]\n",
    "    gene_afs_names = ['missense', 'four_fold']\n",
    "    \n",
    "    afs = []\n",
    "    for data, name in zip(gene_dataframes, gene_afs_names):\n",
    "        indices = np.arange(0, gene_queen['AN'].max() + 1, 1)\n",
    "        df = pd.DataFrame(data['cal_af'].value_counts().reindex(index=indices, fill_value='0').sort_index())\n",
    "        df.columns = [name]\n",
    "        afs.append(df)\n",
    "        \n",
    "    afs = pd.concat(afs, axis='columns')\n",
    "    afs = afs.T\n",
    "#     display(afs.head())\n",
    "    \n",
    "    afs.to_csv(f'/home/arshad/polistes-queen-gene-afs/bootstrapping/folded-polistes-queen-run-{i}.csv')\n",
    "    afs.to_csv(f'/home/arshad/polistes-queen-gene-afs/bootstrapping/sfs/sfs-run-{i}.txt', sep=' ', index=False, header=False)\n",
    "    \n",
    "    # Make sfs.txt file for dfe-alpha file\n",
    "    \n",
    "    with open(f'/home/arshad/polistes-queen-gene-afs/bootstrapping/sfs/sfs-run-{i}.txt', 'r+') as sfs_file:\n",
    "        file_data = sfs_file.read()\n",
    "        sfs_file.seek(0, 0)\n",
    "        sfs_file.write(\"1\\n\".rstrip('\\r\\n') + '\\n')\n",
    "        sfs_file.write(\"20\\n\".rstrip('\\r\\n') + '\\n')\n",
    "        sfs_file.write(file_data)\n",
    "        sfs_file.write(\"#polistes-queen\")\n",
    "        sfs_file.close()\n",
    "    \n",
    "#     Config 1 file\n",
    "\n",
    "    ! mkdir /home/arshad/dfe-alpha-release-2.16/site-class-0-output/bootstrap/run-{i}\n",
    "\n",
    "    with open(f'/home/arshad/dfe-alpha-release-2.16/configs/config-{i}-1.txt', 'a') as sfs_file:\n",
    "        sfs_file.write(\"data_path_1     /home/arshad/dfe-alpha-release-2.16/data/\\n\")\n",
    "        sfs_file.write(\"data_path_2     /home/arshad/dfe-alpha-release-2.16/data-epoch-3/\\n\")\n",
    "        sfs_file.write(f\"sfs_input_file  /home/arshad/polistes-queen-gene-afs/bootstrapping/sfs/sfs-run-{i}.txt\\n\")\n",
    "        sfs_file.write(f\"est_dfe_results_dir    /home/arshad/dfe-alpha-release-2.16/site-class-0-output/bootstrap/run-{i}\\n\") \n",
    "        sfs_file.write(\"site_class 0\\n\")\n",
    "        sfs_file.write(\"fold       1\\n\")\n",
    "        sfs_file.write(\"epochs  2\\n\")\n",
    "        sfs_file.write(\"search_n2       1\\n\")\n",
    "        sfs_file.write(\"#n2     1000\\n\")\n",
    "        sfs_file.write(\"t2_variable     1\\n\")\n",
    "        sfs_file.write(\"t2              1000\\n\")\n",
    "        sfs_file.close()\n",
    "\n",
    "  # Config 2 file\n",
    "    ! mkdir /home/arshad/dfe-alpha-release-2.16/results_dir_sel/bootstrap/run-{i}\n",
    "\n",
    "    with open(f'/home/arshad/dfe-alpha-release-2.16/configs/config-{i}-2.txt', 'a') as sfs_file:\n",
    "        sfs_file.write(\"data_path_1     /home/arshad/dfe-alpha-release-2.16/data/\\n\")\n",
    "        sfs_file.write(\"data_path_2     /home/arshad/dfe-alpha-release-2.16/data-epoch-3/\\n\")\n",
    "        sfs_file.write(f\"sfs_input_file  /home/arshad/polistes-queen-gene-afs/bootstrapping/sfs/sfs-run-{i}.txt\\n\")\n",
    "        sfs_file.write(f\"est_dfe_results_dir    /home/arshad/dfe-alpha-release-2.16/results_dir_sel/bootstrap/run-{i}\\n\") \n",
    "        sfs_file.write(f\"est_dfe_demography_results_file   /home/arshad/dfe-alpha-release-2.16/site-class-0-output/bootstrap/run-{i}/est_dfe.out\\n\") \n",
    "        sfs_file.write(\"site_class 1\\n\")\n",
    "        sfs_file.write(\"fold 1\\n\")\n",
    "        sfs_file.write(\"epochs  2\\n\")\n",
    "        sfs_file.write(\"mean_s_variable 1\\n\")\n",
    "        sfs_file.write(\"mean_s -0.001\\n\")\n",
    "        sfs_file.write(\"beta_variable 1\\n\")\n",
    "        sfs_file.write(\"beta 0.005\\n\")\n",
    "        sfs_file.close()\n",
    "\n",
    "    ! nohup /home/arshad/dfe-alpha-release-2.16/est_dfe -c /home/arshad/dfe-alpha-release-2.16/configs/config-{i}-1.txt\n",
    "    ! nohup /home/arshad/dfe-alpha-release-2.16/est_dfe -c /home/arshad/dfe-alpha-release-2.16/configs/config-{i}-2.txt\n",
    "    ! /home/arshad/dfe-alpha-release-2.16/prop_muts_in_s_ranges -c /home/arshad/dfe-alpha-release-2.16/results_dir_sel/bootstrap/run-{i}/est_dfe.out -o /home/arshad/polistes-queen-gene-afs/bootstrapping/dfe-estimates-queen/run-{i}-estimates.txt"
   ]
  },
  {
   "cell_type": "code",
   "execution_count": null,
   "metadata": {},
   "outputs": [],
   "source": [
    "%%time\n",
    "Parallel(n_jobs=45)(delayed(sfs_test)(i, np.random.choice(queen_genes, len(queen_genes))) for i in trange(5000))"
   ]
  },
  {
   "cell_type": "code",
   "execution_count": null,
   "metadata": {},
   "outputs": [],
   "source": [
    "for i in trange(1):\n",
    "    sfs_test(i, queen_genes)"
   ]
  },
  {
   "cell_type": "code",
   "execution_count": 31,
   "metadata": {},
   "outputs": [
    {
     "data": {
      "text/html": [
       "<div>\n",
       "<style scoped>\n",
       "    .dataframe tbody tr th:only-of-type {\n",
       "        vertical-align: middle;\n",
       "    }\n",
       "\n",
       "    .dataframe tbody tr th {\n",
       "        vertical-align: top;\n",
       "    }\n",
       "\n",
       "    .dataframe thead th {\n",
       "        text-align: right;\n",
       "    }\n",
       "</style>\n",
       "<table border=\"1\" class=\"dataframe\">\n",
       "  <thead>\n",
       "    <tr style=\"text-align: right;\">\n",
       "      <th></th>\n",
       "      <th>one</th>\n",
       "      <th>ten</th>\n",
       "      <th>hundred</th>\n",
       "      <th>infinity</th>\n",
       "      <th>check</th>\n",
       "    </tr>\n",
       "  </thead>\n",
       "  <tbody>\n",
       "    <tr>\n",
       "      <th>0</th>\n",
       "      <td>1.0</td>\n",
       "      <td>0.0</td>\n",
       "      <td>0.0</td>\n",
       "      <td>0.0</td>\n",
       "      <td>NaN</td>\n",
       "    </tr>\n",
       "    <tr>\n",
       "      <th>1</th>\n",
       "      <td>1.0</td>\n",
       "      <td>0.0</td>\n",
       "      <td>0.0</td>\n",
       "      <td>0.0</td>\n",
       "      <td>NaN</td>\n",
       "    </tr>\n",
       "    <tr>\n",
       "      <th>2</th>\n",
       "      <td>1.0</td>\n",
       "      <td>0.0</td>\n",
       "      <td>0.0</td>\n",
       "      <td>0.0</td>\n",
       "      <td>NaN</td>\n",
       "    </tr>\n",
       "    <tr>\n",
       "      <th>3</th>\n",
       "      <td>1.0</td>\n",
       "      <td>0.0</td>\n",
       "      <td>0.0</td>\n",
       "      <td>0.0</td>\n",
       "      <td>NaN</td>\n",
       "    </tr>\n",
       "    <tr>\n",
       "      <th>4</th>\n",
       "      <td>1.0</td>\n",
       "      <td>0.0</td>\n",
       "      <td>0.0</td>\n",
       "      <td>0.0</td>\n",
       "      <td>NaN</td>\n",
       "    </tr>\n",
       "  </tbody>\n",
       "</table>\n",
       "</div>"
      ],
      "text/plain": [
       "   one  ten  hundred  infinity  check\n",
       "0  1.0  0.0      0.0       0.0    NaN\n",
       "1  1.0  0.0      0.0       0.0    NaN\n",
       "2  1.0  0.0      0.0       0.0    NaN\n",
       "3  1.0  0.0      0.0       0.0    NaN\n",
       "4  1.0  0.0      0.0       0.0    NaN"
      ]
     },
     "execution_count": 31,
     "metadata": {},
     "output_type": "execute_result"
    }
   ],
   "source": [
    "check_length = pd.read_csv('/home/arshad/polistes-intron-all-parallel-proper-5kiterations.csv')\n",
    "check_length.head()"
   ]
  },
  {
   "cell_type": "code",
   "execution_count": 32,
   "metadata": {},
   "outputs": [
    {
     "data": {
      "text/plain": [
       "5000"
      ]
     },
     "execution_count": 32,
     "metadata": {},
     "output_type": "execute_result"
    }
   ],
   "source": [
    "len(check_length)"
   ]
  },
  {
   "cell_type": "code",
   "execution_count": 33,
   "metadata": {},
   "outputs": [
    {
     "data": {
      "text/plain": [
       "array([1.])"
      ]
     },
     "execution_count": 33,
     "metadata": {},
     "output_type": "execute_result"
    }
   ],
   "source": [
    "np.unique(check_length['one'])"
   ]
  },
  {
   "cell_type": "code",
   "execution_count": 15,
   "metadata": {},
   "outputs": [
    {
     "name": "stdout",
     "output_type": "stream",
     "text": [
      "11515430\n"
     ]
    },
    {
     "data": {
      "text/html": [
       "<div>\n",
       "<style scoped>\n",
       "    .dataframe tbody tr th:only-of-type {\n",
       "        vertical-align: middle;\n",
       "    }\n",
       "\n",
       "    .dataframe tbody tr th {\n",
       "        vertical-align: top;\n",
       "    }\n",
       "\n",
       "    .dataframe thead th {\n",
       "        text-align: right;\n",
       "    }\n",
       "</style>\n",
       "<table border=\"1\" class=\"dataframe\">\n",
       "  <thead>\n",
       "    <tr style=\"text-align: right;\">\n",
       "      <th></th>\n",
       "      <th>genes</th>\n",
       "      <th>AN</th>\n",
       "      <th>cal_af</th>\n",
       "      <th>effect</th>\n",
       "      <th>AC</th>\n",
       "      <th>AF</th>\n",
       "    </tr>\n",
       "  </thead>\n",
       "  <tbody>\n",
       "    <tr>\n",
       "      <th>8537</th>\n",
       "      <td>PdomGENEr1.2-01131</td>\n",
       "      <td>20.0</td>\n",
       "      <td>0.0</td>\n",
       "      <td>missense_variant</td>\n",
       "      <td>0.0</td>\n",
       "      <td>0.0</td>\n",
       "    </tr>\n",
       "    <tr>\n",
       "      <th>8538</th>\n",
       "      <td>PdomGENEr1.2-01131</td>\n",
       "      <td>20.0</td>\n",
       "      <td>0.0</td>\n",
       "      <td>missense_variant</td>\n",
       "      <td>0.0</td>\n",
       "      <td>0.0</td>\n",
       "    </tr>\n",
       "    <tr>\n",
       "      <th>8539</th>\n",
       "      <td>PdomGENEr1.2-01131</td>\n",
       "      <td>20.0</td>\n",
       "      <td>0.0</td>\n",
       "      <td>missense_variant</td>\n",
       "      <td>0.0</td>\n",
       "      <td>0.0</td>\n",
       "    </tr>\n",
       "    <tr>\n",
       "      <th>8542</th>\n",
       "      <td>PdomGENEr1.2-01131</td>\n",
       "      <td>20.0</td>\n",
       "      <td>0.0</td>\n",
       "      <td>missense_variant</td>\n",
       "      <td>0.0</td>\n",
       "      <td>0.0</td>\n",
       "    </tr>\n",
       "    <tr>\n",
       "      <th>8544</th>\n",
       "      <td>PdomGENEr1.2-01131</td>\n",
       "      <td>20.0</td>\n",
       "      <td>0.0</td>\n",
       "      <td>missense_variant</td>\n",
       "      <td>0.0</td>\n",
       "      <td>0.0</td>\n",
       "    </tr>\n",
       "  </tbody>\n",
       "</table>\n",
       "</div>"
      ],
      "text/plain": [
       "                   genes    AN  cal_af            effect   AC   AF\n",
       "8537  PdomGENEr1.2-01131  20.0     0.0  missense_variant  0.0  0.0\n",
       "8538  PdomGENEr1.2-01131  20.0     0.0  missense_variant  0.0  0.0\n",
       "8539  PdomGENEr1.2-01131  20.0     0.0  missense_variant  0.0  0.0\n",
       "8542  PdomGENEr1.2-01131  20.0     0.0  missense_variant  0.0  0.0\n",
       "8544  PdomGENEr1.2-01131  20.0     0.0  missense_variant  0.0  0.0"
      ]
     },
     "metadata": {},
     "output_type": "display_data"
    }
   ],
   "source": [
    "missense = variants[variants['effect'].str.contains('missense_variant', na=False)]\n",
    "print(len(missense))\n",
    "display(missense.head())"
   ]
  },
  {
   "cell_type": "code",
   "execution_count": 16,
   "metadata": {},
   "outputs": [
    {
     "data": {
      "image/png": "[encoded data removed]",
      "text/plain": [
       "<Figure size 1152x648 with 1 Axes>"
      ]
     },
     "metadata": {
      "needs_background": "light"
     },
     "output_type": "display_data"
    }
   ],
   "source": [
    "graph.figure(figsize=(16,9))\n",
    "sns.distplot(missense['cal_af'], label='Deleterious')\n",
    "sns.distplot(four_fold['cal_af'], label='Synonymous')\n",
    "graph.legend()\n",
    "graph.show()"
   ]
  },
  {
   "cell_type": "code",
   "execution_count": null,
   "metadata": {},
   "outputs": [],
   "source": []
  }
 ],
 "metadata": {
  "kernelspec": {
   "display_name": "Python 3",
   "language": "python",
   "name": "python3"
  },
  "language_info": {
   "codemirror_mode": {
    "name": "ipython",
    "version": 3
   },
   "file_extension": ".py",
   "mimetype": "text/x-python",
   "name": "python",
   "nbconvert_exporter": "python",
   "pygments_lexer": "ipython3",
   "version": "3.6.6"
  }
 },
 "nbformat": 4,
 "nbformat_minor": 2
}
