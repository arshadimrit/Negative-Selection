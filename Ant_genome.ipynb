{
 "cells": [
  {
   "cell_type": "code",
   "execution_count": 1,
   "metadata": {},
   "outputs": [],
   "source": [
    "import pandas as pd\n",
    "import numpy as np\n",
    "import matplotlib.pyplot as graph\n",
    "import seaborn as sns\n",
    "import collections"
   ]
  },
  {
   "cell_type": "code",
   "execution_count": 49,
   "metadata": {},
   "outputs": [],
   "source": [
    "def ecdf(data):\n",
    "    \"\"\"\n",
    "    Empirical CDF (x, y) generator\n",
    "    \"\"\"\n",
    "    x = np.sort(data)\n",
    "    cumulative_prob_density = np.linspace(0, 1, len(x))\n",
    "    return cumulative_prob_density, x\n",
    "\n",
    "def elbow_detection(data, threshold=1, tune=0.01, get_index=False):\n",
    "    cdf, ordered = ecdf(data)\n",
    "    data_2nd_deriv = np.diff(np.diff(ordered))\n",
    "    elbow_point = np.argmax(data_2nd_deriv > threshold) - int(len(cdf) * tune)\n",
    "    return elbow_point if get_index else ordered[elbow_point]"
   ]
  },
  {
   "cell_type": "code",
   "execution_count": 2,
   "metadata": {},
   "outputs": [
    {
     "data": {
      "text/html": [
       "<div>\n",
       "<style scoped>\n",
       "    .dataframe tbody tr th:only-of-type {\n",
       "        vertical-align: middle;\n",
       "    }\n",
       "\n",
       "    .dataframe tbody tr th {\n",
       "        vertical-align: top;\n",
       "    }\n",
       "\n",
       "    .dataframe thead th {\n",
       "        text-align: right;\n",
       "    }\n",
       "</style>\n",
       "<table border=\"1\" class=\"dataframe\">\n",
       "  <thead>\n",
       "    <tr style=\"text-align: right;\">\n",
       "      <th></th>\n",
       "      <th>CHROM</th>\n",
       "      <th>POS</th>\n",
       "      <th>ID</th>\n",
       "      <th>REF</th>\n",
       "      <th>ALT</th>\n",
       "      <th>QUAL</th>\n",
       "      <th>FILTER</th>\n",
       "      <th>INFO</th>\n",
       "      <th>FORMAT</th>\n",
       "      <th>AF</th>\n",
       "      <th>AC</th>\n",
       "      <th>AN</th>\n",
       "      <th>DP</th>\n",
       "      <th>MQ</th>\n",
       "      <th>QD</th>\n",
       "      <th>FS</th>\n",
       "      <th>SOR</th>\n",
       "      <th>MQRankSum</th>\n",
       "      <th>ReadPosRankSum</th>\n",
       "    </tr>\n",
       "  </thead>\n",
       "  <tbody>\n",
       "    <tr>\n",
       "      <th>0</th>\n",
       "      <td>NW_020456309.1</td>\n",
       "      <td>1</td>\n",
       "      <td>.</td>\n",
       "      <td>T</td>\n",
       "      <td>.</td>\n",
       "      <td>63.80</td>\n",
       "      <td>PASS</td>\n",
       "      <td>NaN</td>\n",
       "      <td>NaN</td>\n",
       "      <td>NaN</td>\n",
       "      <td>NaN</td>\n",
       "      <td>19.0</td>\n",
       "      <td>33</td>\n",
       "      <td>NaN</td>\n",
       "      <td>NaN</td>\n",
       "      <td>NaN</td>\n",
       "      <td>NaN</td>\n",
       "      <td>NaN</td>\n",
       "      <td>NaN</td>\n",
       "    </tr>\n",
       "    <tr>\n",
       "      <th>1</th>\n",
       "      <td>NW_020456309.1</td>\n",
       "      <td>2</td>\n",
       "      <td>.</td>\n",
       "      <td>G</td>\n",
       "      <td>.</td>\n",
       "      <td>66.78</td>\n",
       "      <td>PASS</td>\n",
       "      <td>NaN</td>\n",
       "      <td>NaN</td>\n",
       "      <td>NaN</td>\n",
       "      <td>NaN</td>\n",
       "      <td>19.0</td>\n",
       "      <td>33</td>\n",
       "      <td>NaN</td>\n",
       "      <td>NaN</td>\n",
       "      <td>NaN</td>\n",
       "      <td>NaN</td>\n",
       "      <td>NaN</td>\n",
       "      <td>NaN</td>\n",
       "    </tr>\n",
       "    <tr>\n",
       "      <th>2</th>\n",
       "      <td>NW_020456309.1</td>\n",
       "      <td>3</td>\n",
       "      <td>.</td>\n",
       "      <td>T</td>\n",
       "      <td>.</td>\n",
       "      <td>61.11</td>\n",
       "      <td>PASS</td>\n",
       "      <td>NaN</td>\n",
       "      <td>NaN</td>\n",
       "      <td>NaN</td>\n",
       "      <td>NaN</td>\n",
       "      <td>19.0</td>\n",
       "      <td>33</td>\n",
       "      <td>NaN</td>\n",
       "      <td>NaN</td>\n",
       "      <td>NaN</td>\n",
       "      <td>NaN</td>\n",
       "      <td>NaN</td>\n",
       "      <td>NaN</td>\n",
       "    </tr>\n",
       "    <tr>\n",
       "      <th>3</th>\n",
       "      <td>NW_020456309.1</td>\n",
       "      <td>4</td>\n",
       "      <td>.</td>\n",
       "      <td>A</td>\n",
       "      <td>.</td>\n",
       "      <td>65.18</td>\n",
       "      <td>PASS</td>\n",
       "      <td>NaN</td>\n",
       "      <td>NaN</td>\n",
       "      <td>NaN</td>\n",
       "      <td>NaN</td>\n",
       "      <td>19.0</td>\n",
       "      <td>33</td>\n",
       "      <td>NaN</td>\n",
       "      <td>NaN</td>\n",
       "      <td>NaN</td>\n",
       "      <td>NaN</td>\n",
       "      <td>NaN</td>\n",
       "      <td>NaN</td>\n",
       "    </tr>\n",
       "    <tr>\n",
       "      <th>4</th>\n",
       "      <td>NW_020456309.1</td>\n",
       "      <td>5</td>\n",
       "      <td>.</td>\n",
       "      <td>A</td>\n",
       "      <td>.</td>\n",
       "      <td>67.34</td>\n",
       "      <td>PASS</td>\n",
       "      <td>NaN</td>\n",
       "      <td>NaN</td>\n",
       "      <td>NaN</td>\n",
       "      <td>NaN</td>\n",
       "      <td>19.0</td>\n",
       "      <td>33</td>\n",
       "      <td>NaN</td>\n",
       "      <td>NaN</td>\n",
       "      <td>NaN</td>\n",
       "      <td>NaN</td>\n",
       "      <td>NaN</td>\n",
       "      <td>NaN</td>\n",
       "    </tr>\n",
       "  </tbody>\n",
       "</table>\n",
       "</div>"
      ],
      "text/plain": [
       "            CHROM  POS ID REF ALT   QUAL FILTER  INFO  FORMAT  AF  AC    AN  \\\n",
       "0  NW_020456309.1    1  .   T   .  63.80   PASS   NaN     NaN NaN NaN  19.0   \n",
       "1  NW_020456309.1    2  .   G   .  66.78   PASS   NaN     NaN NaN NaN  19.0   \n",
       "2  NW_020456309.1    3  .   T   .  61.11   PASS   NaN     NaN NaN NaN  19.0   \n",
       "3  NW_020456309.1    4  .   A   .  65.18   PASS   NaN     NaN NaN NaN  19.0   \n",
       "4  NW_020456309.1    5  .   A   .  67.34   PASS   NaN     NaN NaN NaN  19.0   \n",
       "\n",
       "   DP  MQ  QD  FS  SOR  MQRankSum  ReadPosRankSum  \n",
       "0  33 NaN NaN NaN  NaN        NaN             NaN  \n",
       "1  33 NaN NaN NaN  NaN        NaN             NaN  \n",
       "2  33 NaN NaN NaN  NaN        NaN             NaN  \n",
       "3  33 NaN NaN NaN  NaN        NaN             NaN  \n",
       "4  33 NaN NaN NaN  NaN        NaN             NaN  "
      ]
     },
     "metadata": {},
     "output_type": "display_data"
    },
    {
     "name": "stdout",
     "output_type": "stream",
     "text": [
      "317141415\n",
      "CPU times: user 5min 12s, sys: 4min 10s, total: 9min 23s\n",
      "Wall time: 10min 8s\n"
     ]
    }
   ],
   "source": [
    "%%time\n",
    "data = pd.read_table('/data4/Ant_genomes/invictus-biallelic.table')\n",
    "display(data.head())\n",
    "print(len(data))"
   ]
  },
  {
   "cell_type": "code",
   "execution_count": 28,
   "metadata": {},
   "outputs": [
    {
     "data": {
      "text/html": [
       "<div>\n",
       "<style scoped>\n",
       "    .dataframe tbody tr th:only-of-type {\n",
       "        vertical-align: middle;\n",
       "    }\n",
       "\n",
       "    .dataframe tbody tr th {\n",
       "        vertical-align: top;\n",
       "    }\n",
       "\n",
       "    .dataframe thead th {\n",
       "        text-align: right;\n",
       "    }\n",
       "</style>\n",
       "<table border=\"1\" class=\"dataframe\">\n",
       "  <thead>\n",
       "    <tr style=\"text-align: right;\">\n",
       "      <th></th>\n",
       "      <th>CHROM</th>\n",
       "      <th>POS</th>\n",
       "      <th>ID</th>\n",
       "      <th>REF</th>\n",
       "      <th>ALT</th>\n",
       "      <th>QUAL</th>\n",
       "      <th>FILTER</th>\n",
       "      <th>INFO</th>\n",
       "      <th>FORMAT</th>\n",
       "      <th>AF</th>\n",
       "      <th>AC</th>\n",
       "      <th>AN</th>\n",
       "      <th>DP</th>\n",
       "      <th>MQ</th>\n",
       "      <th>QD</th>\n",
       "      <th>FS</th>\n",
       "      <th>SOR</th>\n",
       "      <th>MQRankSum</th>\n",
       "      <th>ReadPosRankSum</th>\n",
       "    </tr>\n",
       "  </thead>\n",
       "  <tbody>\n",
       "    <tr>\n",
       "      <th>427</th>\n",
       "      <td>NW_020456309.1</td>\n",
       "      <td>433</td>\n",
       "      <td>.</td>\n",
       "      <td>C</td>\n",
       "      <td>T</td>\n",
       "      <td>743.38</td>\n",
       "      <td>PASS</td>\n",
       "      <td>NaN</td>\n",
       "      <td>NaN</td>\n",
       "      <td>0.075</td>\n",
       "      <td>3.0</td>\n",
       "      <td>40.0</td>\n",
       "      <td>140</td>\n",
       "      <td>NaN</td>\n",
       "      <td>29.67</td>\n",
       "      <td>0.0</td>\n",
       "      <td>1.127</td>\n",
       "      <td>NaN</td>\n",
       "      <td>NaN</td>\n",
       "    </tr>\n",
       "    <tr>\n",
       "      <th>677</th>\n",
       "      <td>NW_020456309.1</td>\n",
       "      <td>701</td>\n",
       "      <td>.</td>\n",
       "      <td>G</td>\n",
       "      <td>A</td>\n",
       "      <td>226.41</td>\n",
       "      <td>PASS</td>\n",
       "      <td>NaN</td>\n",
       "      <td>NaN</td>\n",
       "      <td>0.050</td>\n",
       "      <td>2.0</td>\n",
       "      <td>40.0</td>\n",
       "      <td>130</td>\n",
       "      <td>NaN</td>\n",
       "      <td>32.34</td>\n",
       "      <td>0.0</td>\n",
       "      <td>1.609</td>\n",
       "      <td>NaN</td>\n",
       "      <td>NaN</td>\n",
       "    </tr>\n",
       "    <tr>\n",
       "      <th>1316</th>\n",
       "      <td>NW_020456309.1</td>\n",
       "      <td>1357</td>\n",
       "      <td>.</td>\n",
       "      <td>C</td>\n",
       "      <td>T</td>\n",
       "      <td>394.31</td>\n",
       "      <td>PASS</td>\n",
       "      <td>NaN</td>\n",
       "      <td>NaN</td>\n",
       "      <td>0.025</td>\n",
       "      <td>1.0</td>\n",
       "      <td>40.0</td>\n",
       "      <td>134</td>\n",
       "      <td>NaN</td>\n",
       "      <td>33.74</td>\n",
       "      <td>0.0</td>\n",
       "      <td>0.859</td>\n",
       "      <td>NaN</td>\n",
       "      <td>NaN</td>\n",
       "    </tr>\n",
       "    <tr>\n",
       "      <th>2231</th>\n",
       "      <td>NW_020456309.1</td>\n",
       "      <td>2295</td>\n",
       "      <td>.</td>\n",
       "      <td>T</td>\n",
       "      <td>A</td>\n",
       "      <td>557.38</td>\n",
       "      <td>PASS</td>\n",
       "      <td>NaN</td>\n",
       "      <td>NaN</td>\n",
       "      <td>0.075</td>\n",
       "      <td>3.0</td>\n",
       "      <td>40.0</td>\n",
       "      <td>146</td>\n",
       "      <td>NaN</td>\n",
       "      <td>28.07</td>\n",
       "      <td>0.0</td>\n",
       "      <td>1.112</td>\n",
       "      <td>NaN</td>\n",
       "      <td>NaN</td>\n",
       "    </tr>\n",
       "    <tr>\n",
       "      <th>2740</th>\n",
       "      <td>NW_020456309.1</td>\n",
       "      <td>2835</td>\n",
       "      <td>.</td>\n",
       "      <td>G</td>\n",
       "      <td>A</td>\n",
       "      <td>423.31</td>\n",
       "      <td>PASS</td>\n",
       "      <td>NaN</td>\n",
       "      <td>NaN</td>\n",
       "      <td>0.025</td>\n",
       "      <td>1.0</td>\n",
       "      <td>40.0</td>\n",
       "      <td>139</td>\n",
       "      <td>NaN</td>\n",
       "      <td>28.92</td>\n",
       "      <td>0.0</td>\n",
       "      <td>0.836</td>\n",
       "      <td>NaN</td>\n",
       "      <td>NaN</td>\n",
       "    </tr>\n",
       "  </tbody>\n",
       "</table>\n",
       "</div>"
      ],
      "text/plain": [
       "               CHROM   POS ID REF ALT    QUAL FILTER  INFO  FORMAT     AF  \\\n",
       "427   NW_020456309.1   433  .   C   T  743.38   PASS   NaN     NaN  0.075   \n",
       "677   NW_020456309.1   701  .   G   A  226.41   PASS   NaN     NaN  0.050   \n",
       "1316  NW_020456309.1  1357  .   C   T  394.31   PASS   NaN     NaN  0.025   \n",
       "2231  NW_020456309.1  2295  .   T   A  557.38   PASS   NaN     NaN  0.075   \n",
       "2740  NW_020456309.1  2835  .   G   A  423.31   PASS   NaN     NaN  0.025   \n",
       "\n",
       "       AC    AN   DP  MQ     QD   FS    SOR  MQRankSum  ReadPosRankSum  \n",
       "427   3.0  40.0  140 NaN  29.67  0.0  1.127        NaN             NaN  \n",
       "677   2.0  40.0  130 NaN  32.34  0.0  1.609        NaN             NaN  \n",
       "1316  1.0  40.0  134 NaN  33.74  0.0  0.859        NaN             NaN  \n",
       "2231  3.0  40.0  146 NaN  28.07  0.0  1.112        NaN             NaN  \n",
       "2740  1.0  40.0  139 NaN  28.92  0.0  0.836        NaN             NaN  "
      ]
     },
     "metadata": {},
     "output_type": "display_data"
    },
    {
     "name": "stdout",
     "output_type": "stream",
     "text": [
      "1429218\n"
     ]
    }
   ],
   "source": [
    "data = data[data['AN'] == 40]\n",
    "data.dropna(subset=['AC'], inplace=True)\n",
    "display(data.head())\n",
    "print(len(data))"
   ]
  },
  {
   "cell_type": "code",
   "execution_count": 4,
   "metadata": {},
   "outputs": [
    {
     "data": {
      "image/png": "[encoded data removed]",
      "text/plain": [
       "<Figure size 432x288 with 1 Axes>"
      ]
     },
     "metadata": {
      "needs_background": "light"
     },
     "output_type": "display_data"
    },
    {
     "data": {
      "image/png": "[encoded data removed]",
      "text/plain": [
       "<Figure size 432x288 with 1 Axes>"
      ]
     },
     "metadata": {
      "needs_background": "light"
     },
     "output_type": "display_data"
    },
    {
     "data": {
      "image/png": "[encoded data removed]",
      "text/plain": [
       "<Figure size 432x288 with 1 Axes>"
      ]
     },
     "metadata": {
      "needs_background": "light"
     },
     "output_type": "display_data"
    },
    {
     "data": {
      "image/png": "[encoded data removed]",
      "text/plain": [
       "<Figure size 432x288 with 1 Axes>"
      ]
     },
     "metadata": {
      "needs_background": "light"
     },
     "output_type": "display_data"
    },
    {
     "data": {
      "image/png": "[encoded data removed]",
      "text/plain": [
       "<Figure size 432x288 with 1 Axes>"
      ]
     },
     "metadata": {
      "needs_background": "light"
     },
     "output_type": "display_data"
    }
   ],
   "source": [
    "for col in['QUAL', 'AF', 'AC', 'AN', 'DP']:\n",
    "    graph.title(col, fontsize=20)\n",
    "    sns.distplot(data[col].dropna())\n",
    "    graph.show()"
   ]
  },
  {
   "cell_type": "markdown",
   "metadata": {},
   "source": [
    "# Get columns into numpy array cause faster"
   ]
  },
  {
   "cell_type": "code",
   "execution_count": 29,
   "metadata": {},
   "outputs": [],
   "source": [
    "qual = data['QUAL'].values\n",
    "depth = data['DP'].values\n",
    "allele_number = data['AN'].values"
   ]
  },
  {
   "cell_type": "markdown",
   "metadata": {},
   "source": [
    "# QUAL"
   ]
  },
  {
   "cell_type": "code",
   "execution_count": 61,
   "metadata": {},
   "outputs": [
    {
     "name": "stdout",
     "output_type": "stream",
     "text": [
      "1429218\n",
      "1323258\n",
      " Removed sites: 105960\n"
     ]
    }
   ],
   "source": [
    "filter_qual = qual < 7000\n",
    "new_qual = qual[filter_qual]\n",
    "print(len(qual))\n",
    "print(len(new_qual))\n",
    "\n",
    "print(f\" Removed sites: {len(qual) - len(new_qual)}\")"
   ]
  },
  {
   "cell_type": "code",
   "execution_count": 62,
   "metadata": {},
   "outputs": [
    {
     "data": {
      "text/plain": [
       "<matplotlib.axes._subplots.AxesSubplot at 0x7f090e6d9f98>"
      ]
     },
     "execution_count": 62,
     "metadata": {},
     "output_type": "execute_result"
    },
    {
     "data": {
      "image/png": "[encoded data removed]",
      "text/plain": [
       "<Figure size 432x288 with 1 Axes>"
      ]
     },
     "metadata": {
      "needs_background": "light"
     },
     "output_type": "display_data"
    }
   ],
   "source": [
    "sns.distplot(new_qual)"
   ]
  },
  {
   "cell_type": "code",
   "execution_count": 50,
   "metadata": {},
   "outputs": [
    {
     "data": {
      "text/plain": [
       "3019.96"
      ]
     },
     "execution_count": 50,
     "metadata": {},
     "output_type": "execute_result"
    }
   ],
   "source": [
    "elbow_detection(new_qual)"
   ]
  },
  {
   "cell_type": "markdown",
   "metadata": {},
   "source": [
    "# Allele Number"
   ]
  },
  {
   "cell_type": "code",
   "execution_count": 7,
   "metadata": {},
   "outputs": [
    {
     "data": {
      "text/plain": [
       "40.0    162941226\n",
       "39.0     67959945\n",
       "38.0     25591989\n",
       "37.0     11621956\n",
       "36.0      6382819\n",
       "35.0      4269917\n",
       "34.0      3128031\n",
       "1.0       2645666\n",
       "33.0      2463395\n",
       "32.0      1972204\n",
       "31.0      1636837\n",
       "2.0       1514532\n",
       "30.0      1446603\n",
       "29.0      1243168\n",
       "3.0       1186157\n",
       "28.0      1142379\n",
       "27.0      1097769\n",
       "26.0      1058036\n",
       "4.0       1036204\n",
       "25.0       957946\n",
       "5.0        933623\n",
       "19.0       923110\n",
       "24.0       898838\n",
       "23.0       836912\n",
       "6.0        835896\n",
       "20.0       829756\n",
       "22.0       813048\n",
       "18.0       803066\n",
       "21.0       791098\n",
       "17.0       785741\n",
       "7.0        783220\n",
       "8.0        760518\n",
       "16.0       730218\n",
       "15.0       711322\n",
       "9.0        706278\n",
       "14.0       690153\n",
       "10.0       680127\n",
       "13.0       663569\n",
       "12.0       658444\n",
       "11.0       646539\n",
       "Name: AN, dtype: int64"
      ]
     },
     "execution_count": 7,
     "metadata": {},
     "output_type": "execute_result"
    }
   ],
   "source": [
    "data['AN'].value_counts()"
   ]
  },
  {
   "cell_type": "markdown",
   "metadata": {},
   "source": [
    "# Depth"
   ]
  },
  {
   "cell_type": "code",
   "execution_count": 44,
   "metadata": {},
   "outputs": [
    {
     "name": "stdout",
     "output_type": "stream",
     "text": [
      "1419978\n",
      " Removed sites: 9240\n"
     ]
    }
   ],
   "source": [
    "filter_depth = depth < 500\n",
    "new_depth = depth[filter_depth]\n",
    "print(len(new_depth))\n",
    "\n",
    "print(f\" Removed sites: {len(depth) - len(new_depth)}\")"
   ]
  },
  {
   "cell_type": "code",
   "execution_count": 45,
   "metadata": {},
   "outputs": [
    {
     "data": {
      "text/plain": [
       "<matplotlib.axes._subplots.AxesSubplot at 0x7f090eb0bb38>"
      ]
     },
     "execution_count": 45,
     "metadata": {},
     "output_type": "execute_result"
    },
    {
     "data": {
      "image/png": "[encoded data removed]",
      "text/plain": [
       "<Figure size 432x288 with 1 Axes>"
      ]
     },
     "metadata": {
      "needs_background": "light"
     },
     "output_type": "display_data"
    }
   ],
   "source": [
    "sns.distplot(new_depth)"
   ]
  },
  {
   "cell_type": "code",
   "execution_count": 46,
   "metadata": {},
   "outputs": [
    {
     "name": "stdout",
     "output_type": "stream",
     "text": [
      "149.0 56.0 205.0\n"
     ]
    }
   ],
   "source": [
    "lower_iqr = np.quantile(new_depth, 0.25)\n",
    "upper_iqr = np.quantile(new_depth, 0.75)\n",
    "\n",
    "iqr = upper_iqr - lower_iqr\n",
    "print(lower_iqr, iqr, upper_iqr)"
   ]
  },
  {
   "cell_type": "code",
   "execution_count": 47,
   "metadata": {},
   "outputs": [
    {
     "name": "stdout",
     "output_type": "stream",
     "text": [
      "65.0 289.0\n"
     ]
    }
   ],
   "source": [
    "lower_depth = lower_iqr-(1.5*iqr)\n",
    "upper_depth = upper_iqr+(1.5*iqr)\n",
    "\n",
    "print(lower_depth, upper_depth)"
   ]
  },
  {
   "cell_type": "code",
   "execution_count": 48,
   "metadata": {},
   "outputs": [
    {
     "data": {
      "image/png": "[encoded data removed]",
      "text/plain": [
       "<Figure size 432x288 with 1 Axes>"
      ]
     },
     "metadata": {
      "needs_background": "light"
     },
     "output_type": "display_data"
    }
   ],
   "source": [
    "sns.distplot(new_depth)\n",
    "graph.axvline(lower_depth)\n",
    "graph.axvline(upper_depth)\n",
    "graph.show()"
   ]
  }
 ],
 "metadata": {
  "kernelspec": {
   "display_name": "Python 3",
   "language": "python",
   "name": "python3"
  },
  "language_info": {
   "codemirror_mode": {
    "name": "ipython",
    "version": 3
   },
   "file_extension": ".py",
   "mimetype": "text/x-python",
   "name": "python",
   "nbconvert_exporter": "python",
   "pygments_lexer": "ipython3",
   "version": "3.6.7"
  }
 },
 "nbformat": 4,
 "nbformat_minor": 4
}
