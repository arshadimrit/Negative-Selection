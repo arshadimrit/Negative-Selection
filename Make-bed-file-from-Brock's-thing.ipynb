{
 "cells": [
  {
   "cell_type": "code",
   "execution_count": 1,
   "metadata": {},
   "outputs": [],
   "source": [
    "import pandas as pd\n",
    "import numpy as np\n",
    "import matplotlib.pyplot as graph\n",
    "\n",
    "chromosome_numbers = np.arange(1,17,1)"
   ]
  },
  {
   "cell_type": "code",
   "execution_count": 57,
   "metadata": {},
   "outputs": [
    {
     "name": "stdout",
     "output_type": "stream",
     "text": [
      "237\n"
     ]
    }
   ],
   "source": [
    "worker_intron = pd.read_table('/home/arshad/Downloads/Brock_data_intron/Scaffold_assembly/cons_unnamed_removed.bed, header=None)\n",
    "worker_intron.rename(columns={0: 'chromosome'}, inplace=True)\n",
    "\n",
    "print(len(worker_intron))"
   ]
  },
  {
   "cell_type": "code",
   "execution_count": 58,
   "metadata": {},
   "outputs": [],
   "source": [
    "worker_intron['chromosome'] = worker_intron['all_info'].str.split(':').str.get(0).str.split('chr').str.get(1)\n",
    "worker_intron['start'] = worker_intron['all_info'].str.split(':').str.get(1).str.split('-').str.get(0)\n",
    "worker_intron['end'] = worker_intron['all_info'].str.split(':').str.get(1).str.split('-').str.get(1)"
   ]
  },
  {
   "cell_type": "code",
   "execution_count": 59,
   "metadata": {},
   "outputs": [],
   "source": [
    "worker_intron.drop(columns=['all_info'], inplace=True)"
   ]
  },
  {
   "cell_type": "code",
   "execution_count": 60,
   "metadata": {},
   "outputs": [],
   "source": [
    "# filtered = worker_intron[~worker_intron['chromosome'].isin(chromosome_numbers)]\n",
    "# worker_intron.dropna(subset=['chromosome'], inplace=True)"
   ]
  },
  {
   "cell_type": "code",
   "execution_count": 61,
   "metadata": {},
   "outputs": [],
   "source": [
    "worker_intron.dropna(subset=['chromosome'], inplace=True)"
   ]
  },
  {
   "cell_type": "code",
   "execution_count": 62,
   "metadata": {},
   "outputs": [
    {
     "data": {
      "text/html": [
       "<div>\n",
       "<style scoped>\n",
       "    .dataframe tbody tr th:only-of-type {\n",
       "        vertical-align: middle;\n",
       "    }\n",
       "\n",
       "    .dataframe tbody tr th {\n",
       "        vertical-align: top;\n",
       "    }\n",
       "\n",
       "    .dataframe thead th {\n",
       "        text-align: right;\n",
       "    }\n",
       "</style>\n",
       "<table border=\"1\" class=\"dataframe\">\n",
       "  <thead>\n",
       "    <tr style=\"text-align: right;\">\n",
       "      <th></th>\n",
       "      <th>chromosome</th>\n",
       "      <th>start</th>\n",
       "      <th>end</th>\n",
       "    </tr>\n",
       "  </thead>\n",
       "  <tbody>\n",
       "    <tr>\n",
       "      <th>0</th>\n",
       "      <td>1</td>\n",
       "      <td>26659468</td>\n",
       "      <td>26659602</td>\n",
       "    </tr>\n",
       "    <tr>\n",
       "      <th>1</th>\n",
       "      <td>1</td>\n",
       "      <td>11026891</td>\n",
       "      <td>11027513</td>\n",
       "    </tr>\n",
       "    <tr>\n",
       "      <th>2</th>\n",
       "      <td>1</td>\n",
       "      <td>14492339</td>\n",
       "      <td>14492418</td>\n",
       "    </tr>\n",
       "    <tr>\n",
       "      <th>3</th>\n",
       "      <td>1</td>\n",
       "      <td>12864902</td>\n",
       "      <td>12865087</td>\n",
       "    </tr>\n",
       "    <tr>\n",
       "      <th>4</th>\n",
       "      <td>1</td>\n",
       "      <td>27451563</td>\n",
       "      <td>27462553</td>\n",
       "    </tr>\n",
       "  </tbody>\n",
       "</table>\n",
       "</div>"
      ],
      "text/plain": [
       "  chromosome     start       end\n",
       "0          1  26659468  26659602\n",
       "1          1  11026891  11027513\n",
       "2          1  14492339  14492418\n",
       "3          1  12864902  12865087\n",
       "4          1  27451563  27462553"
      ]
     },
     "metadata": {},
     "output_type": "display_data"
    },
    {
     "data": {
      "text/html": [
       "<div>\n",
       "<style scoped>\n",
       "    .dataframe tbody tr th:only-of-type {\n",
       "        vertical-align: middle;\n",
       "    }\n",
       "\n",
       "    .dataframe tbody tr th {\n",
       "        vertical-align: top;\n",
       "    }\n",
       "\n",
       "    .dataframe thead th {\n",
       "        text-align: right;\n",
       "    }\n",
       "</style>\n",
       "<table border=\"1\" class=\"dataframe\">\n",
       "  <thead>\n",
       "    <tr style=\"text-align: right;\">\n",
       "      <th></th>\n",
       "      <th>chromosome</th>\n",
       "      <th>start</th>\n",
       "      <th>end</th>\n",
       "    </tr>\n",
       "  </thead>\n",
       "  <tbody>\n",
       "    <tr>\n",
       "      <th>232</th>\n",
       "      <td>16</td>\n",
       "      <td>4605001</td>\n",
       "      <td>4605153</td>\n",
       "    </tr>\n",
       "    <tr>\n",
       "      <th>233</th>\n",
       "      <td>16</td>\n",
       "      <td>8824</td>\n",
       "      <td>30773</td>\n",
       "    </tr>\n",
       "    <tr>\n",
       "      <th>234</th>\n",
       "      <td>16</td>\n",
       "      <td>4824960</td>\n",
       "      <td>4835386</td>\n",
       "    </tr>\n",
       "    <tr>\n",
       "      <th>235</th>\n",
       "      <td>16</td>\n",
       "      <td>6245461</td>\n",
       "      <td>6246191</td>\n",
       "    </tr>\n",
       "    <tr>\n",
       "      <th>236</th>\n",
       "      <td>16</td>\n",
       "      <td>3636254</td>\n",
       "      <td>3636354</td>\n",
       "    </tr>\n",
       "  </tbody>\n",
       "</table>\n",
       "</div>"
      ],
      "text/plain": [
       "    chromosome    start      end\n",
       "232         16  4605001  4605153\n",
       "233         16     8824    30773\n",
       "234         16  4824960  4835386\n",
       "235         16  6245461  6246191\n",
       "236         16  3636254  3636354"
      ]
     },
     "metadata": {},
     "output_type": "display_data"
    }
   ],
   "source": [
    "display(worker_intron.head())\n",
    "display(worker_intron.tail())"
   ]
  },
  {
   "cell_type": "code",
   "execution_count": 63,
   "metadata": {},
   "outputs": [],
   "source": [
    "# worker_intron.to_csv('/home/arshad/Downloads/Brock\\'s_data_intron/D_brock_analysis.bed', header=None, index=False, sep='\\t')"
   ]
  },
  {
   "cell_type": "markdown",
   "metadata": {},
   "source": [
    "# New Data\n",
    "#### November 1st"
   ]
  },
  {
   "cell_type": "code",
   "execution_count": 2,
   "metadata": {},
   "outputs": [],
   "source": [
    "def correct_start(row):\n",
    "    if row['start'] > row['end']:\n",
    "        new_start = row['end']\n",
    "        val = new_start\n",
    "    else:\n",
    "        val = row['start']\n",
    "    return val\n",
    "\n",
    "def correct_stop(row):\n",
    "    if row['end'] < row['start']:\n",
    "        new_stop = row['start']\n",
    "        val = new_stop\n",
    "    else:\n",
    "        val = row['end']\n",
    "    return val"
   ]
  },
  {
   "cell_type": "code",
   "execution_count": 52,
   "metadata": {},
   "outputs": [
    {
     "data": {
      "text/html": [
       "<div>\n",
       "<style scoped>\n",
       "    .dataframe tbody tr th:only-of-type {\n",
       "        vertical-align: middle;\n",
       "    }\n",
       "\n",
       "    .dataframe tbody tr th {\n",
       "        vertical-align: top;\n",
       "    }\n",
       "\n",
       "    .dataframe thead th {\n",
       "        text-align: right;\n",
       "    }\n",
       "</style>\n",
       "<table border=\"1\" class=\"dataframe\">\n",
       "  <thead>\n",
       "    <tr style=\"text-align: right;\">\n",
       "      <th></th>\n",
       "      <th>chromosome</th>\n",
       "      <th>start</th>\n",
       "      <th>end</th>\n",
       "      <th>3</th>\n",
       "    </tr>\n",
       "  </thead>\n",
       "  <tbody>\n",
       "    <tr>\n",
       "      <th>0</th>\n",
       "      <td>Group1.35</td>\n",
       "      <td>135260</td>\n",
       "      <td>135326</td>\n",
       "      <td>W_chr1:21474136-21474202</td>\n",
       "    </tr>\n",
       "    <tr>\n",
       "      <th>1</th>\n",
       "      <td>Group1.21</td>\n",
       "      <td>442584</td>\n",
       "      <td>442689</td>\n",
       "      <td>W_chr1:12052638-12052743</td>\n",
       "    </tr>\n",
       "    <tr>\n",
       "      <th>2</th>\n",
       "      <td>Group1.37</td>\n",
       "      <td>196766</td>\n",
       "      <td>196830</td>\n",
       "      <td>W_chr1:22591917-22591981</td>\n",
       "    </tr>\n",
       "    <tr>\n",
       "      <th>3</th>\n",
       "      <td>Group1.37</td>\n",
       "      <td>196911</td>\n",
       "      <td>196964</td>\n",
       "      <td>W_chr1:22592062-22592115</td>\n",
       "    </tr>\n",
       "    <tr>\n",
       "      <th>4</th>\n",
       "      <td>Group1.27</td>\n",
       "      <td>219314</td>\n",
       "      <td>219377</td>\n",
       "      <td>W_chr1:15554332-15554395</td>\n",
       "    </tr>\n",
       "  </tbody>\n",
       "</table>\n",
       "</div>"
      ],
      "text/plain": [
       "  chromosome   start     end                         3\n",
       "0  Group1.35  135260  135326  W_chr1:21474136-21474202\n",
       "1  Group1.21  442584  442689  W_chr1:12052638-12052743\n",
       "2  Group1.37  196766  196830  W_chr1:22591917-22591981\n",
       "3  Group1.37  196911  196964  W_chr1:22592062-22592115\n",
       "4  Group1.27  219314  219377  W_chr1:15554332-15554395"
      ]
     },
     "metadata": {},
     "output_type": "display_data"
    },
    {
     "name": "stdout",
     "output_type": "stream",
     "text": [
      "2009\n"
     ]
    }
   ],
   "source": [
    "worker_intron = pd.read_table('/home/arshad/Downloads/Brock_data_intron/new_data_november_5/W.bed', delim_whitespace=True,\n",
    "                              header=None)\n",
    "worker_intron.rename(columns={0: 'chromosome', 1: 'start', 2: 'end'}, inplace=True)\n",
    "display(worker_intron.head())\n",
    "print(len(worker_intron))"
   ]
  },
  {
   "cell_type": "code",
   "execution_count": 53,
   "metadata": {},
   "outputs": [],
   "source": [
    "worker_intron['chromosome'] = worker_intron['chromosome'].str.split('Group').str.get(1)\n",
    "worker_intron.drop(columns=[3], inplace=True)"
   ]
  },
  {
   "cell_type": "code",
   "execution_count": 54,
   "metadata": {},
   "outputs": [],
   "source": [
    "worker_intron['correct_start'] = worker_intron.apply(correct_start, axis=1)\n",
    "worker_intron['correct_end'] = worker_intron.apply(correct_stop, axis=1)"
   ]
  },
  {
   "cell_type": "code",
   "execution_count": 55,
   "metadata": {},
   "outputs": [],
   "source": [
    "worker_intron.sort_values(by=['chromosome', 'start'], inplace=True)"
   ]
  },
  {
   "cell_type": "code",
   "execution_count": 56,
   "metadata": {
    "scrolled": true
   },
   "outputs": [
    {
     "data": {
      "text/html": [
       "<div>\n",
       "<style scoped>\n",
       "    .dataframe tbody tr th:only-of-type {\n",
       "        vertical-align: middle;\n",
       "    }\n",
       "\n",
       "    .dataframe tbody tr th {\n",
       "        vertical-align: top;\n",
       "    }\n",
       "\n",
       "    .dataframe thead th {\n",
       "        text-align: right;\n",
       "    }\n",
       "</style>\n",
       "<table border=\"1\" class=\"dataframe\">\n",
       "  <thead>\n",
       "    <tr style=\"text-align: right;\">\n",
       "      <th></th>\n",
       "      <th>chromosome</th>\n",
       "      <th>start</th>\n",
       "      <th>end</th>\n",
       "      <th>correct_start</th>\n",
       "      <th>correct_end</th>\n",
       "    </tr>\n",
       "  </thead>\n",
       "  <tbody>\n",
       "    <tr>\n",
       "      <th>39</th>\n",
       "      <td>1.1</td>\n",
       "      <td>1270644</td>\n",
       "      <td>1270721</td>\n",
       "      <td>1270644</td>\n",
       "      <td>1270721</td>\n",
       "    </tr>\n",
       "    <tr>\n",
       "      <th>40</th>\n",
       "      <td>1.1</td>\n",
       "      <td>1272255</td>\n",
       "      <td>1272318</td>\n",
       "      <td>1272255</td>\n",
       "      <td>1272318</td>\n",
       "    </tr>\n",
       "    <tr>\n",
       "      <th>128</th>\n",
       "      <td>1.1</td>\n",
       "      <td>1350541</td>\n",
       "      <td>1352702</td>\n",
       "      <td>1350541</td>\n",
       "      <td>1352702</td>\n",
       "    </tr>\n",
       "    <tr>\n",
       "      <th>127</th>\n",
       "      <td>1.1</td>\n",
       "      <td>1352775</td>\n",
       "      <td>1353862</td>\n",
       "      <td>1352775</td>\n",
       "      <td>1353862</td>\n",
       "    </tr>\n",
       "    <tr>\n",
       "      <th>126</th>\n",
       "      <td>1.1</td>\n",
       "      <td>1354047</td>\n",
       "      <td>1354691</td>\n",
       "      <td>1354047</td>\n",
       "      <td>1354691</td>\n",
       "    </tr>\n",
       "  </tbody>\n",
       "</table>\n",
       "</div>"
      ],
      "text/plain": [
       "    chromosome    start      end  correct_start  correct_end\n",
       "39         1.1  1270644  1270721        1270644      1270721\n",
       "40         1.1  1272255  1272318        1272255      1272318\n",
       "128        1.1  1350541  1352702        1350541      1352702\n",
       "127        1.1  1352775  1353862        1352775      1353862\n",
       "126        1.1  1354047  1354691        1354047      1354691"
      ]
     },
     "metadata": {},
     "output_type": "display_data"
    },
    {
     "data": {
      "text/html": [
       "<div>\n",
       "<style scoped>\n",
       "    .dataframe tbody tr th:only-of-type {\n",
       "        vertical-align: middle;\n",
       "    }\n",
       "\n",
       "    .dataframe tbody tr th {\n",
       "        vertical-align: top;\n",
       "    }\n",
       "\n",
       "    .dataframe thead th {\n",
       "        text-align: right;\n",
       "    }\n",
       "</style>\n",
       "<table border=\"1\" class=\"dataframe\">\n",
       "  <thead>\n",
       "    <tr style=\"text-align: right;\">\n",
       "      <th></th>\n",
       "      <th>chromosome</th>\n",
       "      <th>start</th>\n",
       "      <th>end</th>\n",
       "      <th>correct_start</th>\n",
       "      <th>correct_end</th>\n",
       "    </tr>\n",
       "  </thead>\n",
       "  <tbody>\n",
       "    <tr>\n",
       "      <th>801</th>\n",
       "      <td>9.8</td>\n",
       "      <td>93480</td>\n",
       "      <td>93562</td>\n",
       "      <td>93480</td>\n",
       "      <td>93562</td>\n",
       "    </tr>\n",
       "    <tr>\n",
       "      <th>802</th>\n",
       "      <td>9.8</td>\n",
       "      <td>93721</td>\n",
       "      <td>93812</td>\n",
       "      <td>93721</td>\n",
       "      <td>93812</td>\n",
       "    </tr>\n",
       "    <tr>\n",
       "      <th>803</th>\n",
       "      <td>9.8</td>\n",
       "      <td>95026</td>\n",
       "      <td>95111</td>\n",
       "      <td>95026</td>\n",
       "      <td>95111</td>\n",
       "    </tr>\n",
       "    <tr>\n",
       "      <th>813</th>\n",
       "      <td>9.8</td>\n",
       "      <td>768957</td>\n",
       "      <td>769208</td>\n",
       "      <td>768957</td>\n",
       "      <td>769208</td>\n",
       "    </tr>\n",
       "    <tr>\n",
       "      <th>793</th>\n",
       "      <td>9.8</td>\n",
       "      <td>791747</td>\n",
       "      <td>791811</td>\n",
       "      <td>791747</td>\n",
       "      <td>791811</td>\n",
       "    </tr>\n",
       "  </tbody>\n",
       "</table>\n",
       "</div>"
      ],
      "text/plain": [
       "    chromosome   start     end  correct_start  correct_end\n",
       "801        9.8   93480   93562          93480        93562\n",
       "802        9.8   93721   93812          93721        93812\n",
       "803        9.8   95026   95111          95026        95111\n",
       "813        9.8  768957  769208         768957       769208\n",
       "793        9.8  791747  791811         791747       791811"
      ]
     },
     "metadata": {},
     "output_type": "display_data"
    }
   ],
   "source": [
    "display(worker_intron.head())\n",
    "display(worker_intron.tail())"
   ]
  },
  {
   "cell_type": "code",
   "execution_count": 57,
   "metadata": {},
   "outputs": [],
   "source": [
    "worker_intron['start'] = worker_intron['correct_start']\n",
    "worker_intron['end'] = worker_intron['correct_end']\n",
    "\n",
    "worker_intron.drop(columns=['correct_start', 'correct_end'], inplace=True)"
   ]
  },
  {
   "cell_type": "code",
   "execution_count": 58,
   "metadata": {},
   "outputs": [
    {
     "data": {
      "text/html": [
       "<div>\n",
       "<style scoped>\n",
       "    .dataframe tbody tr th:only-of-type {\n",
       "        vertical-align: middle;\n",
       "    }\n",
       "\n",
       "    .dataframe tbody tr th {\n",
       "        vertical-align: top;\n",
       "    }\n",
       "\n",
       "    .dataframe thead th {\n",
       "        text-align: right;\n",
       "    }\n",
       "</style>\n",
       "<table border=\"1\" class=\"dataframe\">\n",
       "  <thead>\n",
       "    <tr style=\"text-align: right;\">\n",
       "      <th></th>\n",
       "      <th>chromosome</th>\n",
       "      <th>start</th>\n",
       "      <th>end</th>\n",
       "    </tr>\n",
       "  </thead>\n",
       "  <tbody>\n",
       "    <tr>\n",
       "      <th>801</th>\n",
       "      <td>9.8</td>\n",
       "      <td>93480</td>\n",
       "      <td>93562</td>\n",
       "    </tr>\n",
       "    <tr>\n",
       "      <th>802</th>\n",
       "      <td>9.8</td>\n",
       "      <td>93721</td>\n",
       "      <td>93812</td>\n",
       "    </tr>\n",
       "    <tr>\n",
       "      <th>803</th>\n",
       "      <td>9.8</td>\n",
       "      <td>95026</td>\n",
       "      <td>95111</td>\n",
       "    </tr>\n",
       "    <tr>\n",
       "      <th>813</th>\n",
       "      <td>9.8</td>\n",
       "      <td>768957</td>\n",
       "      <td>769208</td>\n",
       "    </tr>\n",
       "    <tr>\n",
       "      <th>793</th>\n",
       "      <td>9.8</td>\n",
       "      <td>791747</td>\n",
       "      <td>791811</td>\n",
       "    </tr>\n",
       "  </tbody>\n",
       "</table>\n",
       "</div>"
      ],
      "text/plain": [
       "    chromosome   start     end\n",
       "801        9.8   93480   93562\n",
       "802        9.8   93721   93812\n",
       "803        9.8   95026   95111\n",
       "813        9.8  768957  769208\n",
       "793        9.8  791747  791811"
      ]
     },
     "metadata": {},
     "output_type": "display_data"
    }
   ],
   "source": [
    "display(worker_intron.tail())"
   ]
  },
  {
   "cell_type": "code",
   "execution_count": 59,
   "metadata": {},
   "outputs": [],
   "source": [
    "worker_intron.to_csv('/home/arshad/Downloads/Brock_data_intron/new_data_november_5/nov5_w_brock_analysis.bed', \n",
    "                     header=None, index=False, sep='\\t')"
   ]
  },
  {
   "cell_type": "code",
   "execution_count": 130,
   "metadata": {},
   "outputs": [
    {
     "data": {
      "text/html": [
       "<div>\n",
       "<style scoped>\n",
       "    .dataframe tbody tr th:only-of-type {\n",
       "        vertical-align: middle;\n",
       "    }\n",
       "\n",
       "    .dataframe tbody tr th {\n",
       "        vertical-align: top;\n",
       "    }\n",
       "\n",
       "    .dataframe thead th {\n",
       "        text-align: right;\n",
       "    }\n",
       "</style>\n",
       "<table border=\"1\" class=\"dataframe\">\n",
       "  <thead>\n",
       "    <tr style=\"text-align: right;\">\n",
       "      <th></th>\n",
       "      <th>chromosome</th>\n",
       "      <th>start</th>\n",
       "      <th>end</th>\n",
       "    </tr>\n",
       "  </thead>\n",
       "  <tbody>\n",
       "    <tr>\n",
       "      <th>5</th>\n",
       "      <td>1.1</td>\n",
       "      <td>1367535</td>\n",
       "      <td>1367614</td>\n",
       "    </tr>\n",
       "    <tr>\n",
       "      <th>155</th>\n",
       "      <td>1.1</td>\n",
       "      <td>1367535</td>\n",
       "      <td>1367614</td>\n",
       "    </tr>\n",
       "    <tr>\n",
       "      <th>12</th>\n",
       "      <td>1.10</td>\n",
       "      <td>336955</td>\n",
       "      <td>337080</td>\n",
       "    </tr>\n",
       "    <tr>\n",
       "      <th>162</th>\n",
       "      <td>1.10</td>\n",
       "      <td>336955</td>\n",
       "      <td>337080</td>\n",
       "    </tr>\n",
       "    <tr>\n",
       "      <th>11</th>\n",
       "      <td>1.10</td>\n",
       "      <td>707802</td>\n",
       "      <td>707882</td>\n",
       "    </tr>\n",
       "  </tbody>\n",
       "</table>\n",
       "</div>"
      ],
      "text/plain": [
       "    chromosome    start      end\n",
       "5          1.1  1367535  1367614\n",
       "155        1.1  1367535  1367614\n",
       "12        1.10   336955   337080\n",
       "162       1.10   336955   337080\n",
       "11        1.10   707802   707882"
      ]
     },
     "execution_count": 130,
     "metadata": {},
     "output_type": "execute_result"
    }
   ],
   "source": [
    "worker_intron.head()"
   ]
  },
  {
   "cell_type": "code",
   "execution_count": 132,
   "metadata": {},
   "outputs": [
    {
     "data": {
      "text/html": [
       "<div>\n",
       "<style scoped>\n",
       "    .dataframe tbody tr th:only-of-type {\n",
       "        vertical-align: middle;\n",
       "    }\n",
       "\n",
       "    .dataframe tbody tr th {\n",
       "        vertical-align: top;\n",
       "    }\n",
       "\n",
       "    .dataframe thead th {\n",
       "        text-align: right;\n",
       "    }\n",
       "</style>\n",
       "<table border=\"1\" class=\"dataframe\">\n",
       "  <thead>\n",
       "    <tr style=\"text-align: right;\">\n",
       "      <th></th>\n",
       "      <th>chromosome</th>\n",
       "      <th>start</th>\n",
       "      <th>end</th>\n",
       "      <th>bp</th>\n",
       "    </tr>\n",
       "  </thead>\n",
       "  <tbody>\n",
       "    <tr>\n",
       "      <th>5</th>\n",
       "      <td>1.1</td>\n",
       "      <td>1367535</td>\n",
       "      <td>1367614</td>\n",
       "      <td>79</td>\n",
       "    </tr>\n",
       "    <tr>\n",
       "      <th>155</th>\n",
       "      <td>1.1</td>\n",
       "      <td>1367535</td>\n",
       "      <td>1367614</td>\n",
       "      <td>79</td>\n",
       "    </tr>\n",
       "    <tr>\n",
       "      <th>12</th>\n",
       "      <td>1.10</td>\n",
       "      <td>336955</td>\n",
       "      <td>337080</td>\n",
       "      <td>125</td>\n",
       "    </tr>\n",
       "    <tr>\n",
       "      <th>162</th>\n",
       "      <td>1.10</td>\n",
       "      <td>336955</td>\n",
       "      <td>337080</td>\n",
       "      <td>125</td>\n",
       "    </tr>\n",
       "    <tr>\n",
       "      <th>11</th>\n",
       "      <td>1.10</td>\n",
       "      <td>707802</td>\n",
       "      <td>707882</td>\n",
       "      <td>80</td>\n",
       "    </tr>\n",
       "  </tbody>\n",
       "</table>\n",
       "</div>"
      ],
      "text/plain": [
       "    chromosome    start      end   bp\n",
       "5          1.1  1367535  1367614   79\n",
       "155        1.1  1367535  1367614   79\n",
       "12        1.10   336955   337080  125\n",
       "162       1.10   336955   337080  125\n",
       "11        1.10   707802   707882   80"
      ]
     },
     "execution_count": 132,
     "metadata": {},
     "output_type": "execute_result"
    }
   ],
   "source": [
    "worker_intron['bp'] = worker_intron['end'] - worker_intron['start']\n",
    "worker_intron.head()"
   ]
  },
  {
   "cell_type": "code",
   "execution_count": 134,
   "metadata": {},
   "outputs": [
    {
     "data": {
      "text/plain": [
       "276752"
      ]
     },
     "execution_count": 134,
     "metadata": {},
     "output_type": "execute_result"
    }
   ],
   "source": [
    "worker_intron['bp'].sum()"
   ]
  },
  {
   "cell_type": "markdown",
   "metadata": {},
   "source": [
    "# Remnants\n",
    "\n",
    "def correct_start(start_value, stop_value):\n",
    "    if start_value > stop_value:\n",
    "        new_start = stop_value.copy()\n",
    "        return new_start\n",
    "    else:\n",
    "        return start_value\n",
    "\n",
    "def correct_stop(start_value, stop_value):\n",
    "    if stop_value < start_value:\n",
    "        new_stop = start_value.copy()\n",
    "        return new_stop\n",
    "    else:\n",
    "        return stop_value"
   ]
  }
 ],
 "metadata": {
  "kernelspec": {
   "display_name": "Python 3",
   "language": "python",
   "name": "python3"
  },
  "language_info": {
   "codemirror_mode": {
    "name": "ipython",
    "version": 3
   },
   "file_extension": ".py",
   "mimetype": "text/x-python",
   "name": "python",
   "nbconvert_exporter": "python",
   "pygments_lexer": "ipython3",
   "version": "3.6.3"
  }
 },
 "nbformat": 4,
 "nbformat_minor": 2
}
